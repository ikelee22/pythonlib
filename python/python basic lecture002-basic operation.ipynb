{
 "cells": [
  {
   "cell_type": "markdown",
   "metadata": {},
   "source": [
    "<img src='./img/intel-logo.jpg' width=10%> \n",
    "    \n",
    "<font size=7><div align='left'>파이썬 기초강의<br>\n",
    "<br>\n",
    "<font size=6><div align='left'>02. 사칙연산 및 연산자<br> \n",
    "                        \n",
    "<img src='./img/파이썬.png' width=30%, Fig2> \n",
    "    \n",
    "<font size=3><div align='right'>\n",
    "<div align='right'>성  민  석 (Minsuk  Sung)</div>\n",
    "<div align='right'>류  회  성 (Hoesung Ryu)</div>\n",
    "<div align='right'>이  인  구 (Ike Lee)</div> "
   ]
  },
  {
   "cell_type": "markdown",
   "metadata": {
    "toc": true
   },
   "source": [
    "<h1>강의목차<span class=\"tocSkip\"></span></h1>\n",
    "<div class=\"toc\"><ul class=\"toc-item\"><li><span><a href=\"#다양한-연산자들\" data-toc-modified-id=\"다양한-연산자들-1\"><span class=\"toc-item-num\">1&nbsp;&nbsp;</span>다양한 연산자들</a></span><ul class=\"toc-item\"><li><span><a href=\"#사칙-연산자\" data-toc-modified-id=\"사칙-연산자-1.1\"><span class=\"toc-item-num\">1.1&nbsp;&nbsp;</span>사칙 연산자</a></span></li></ul></li><li><span><a href=\"#비교-연산자\" data-toc-modified-id=\"비교-연산자-2\"><span class=\"toc-item-num\">2&nbsp;&nbsp;</span>비교 연산자</a></span><ul class=\"toc-item\"><li><span><a href=\"#비교연산자\" data-toc-modified-id=\"비교연산자-2.1\"><span class=\"toc-item-num\">2.1&nbsp;&nbsp;</span>비교연산자</a></span></li><li><span><a href=\"#ASCII-Code\" data-toc-modified-id=\"ASCII-Code-2.2\"><span class=\"toc-item-num\">2.2&nbsp;&nbsp;</span>ASCII Code</a></span></li></ul></li><li><span><a href=\"#논리연산자(Logical-Operators)\" data-toc-modified-id=\"논리연산자(Logical-Operators)-3\"><span class=\"toc-item-num\">3&nbsp;&nbsp;</span>논리연산자(Logical Operators)</a></span><ul class=\"toc-item\"><li><span><a href=\"#연산순서\" data-toc-modified-id=\"연산순서-3.1\"><span class=\"toc-item-num\">3.1&nbsp;&nbsp;</span>연산순서</a></span></li></ul></li><li><span><a href=\"#Example-:\" data-toc-modified-id=\"Example-:-4\"><span class=\"toc-item-num\">4&nbsp;&nbsp;</span>Example :</a></span><ul class=\"toc-item\"><li><span><a href=\"#직육면체의-부피를-구해보자\" data-toc-modified-id=\"직육면체의-부피를-구해보자-4.1\"><span class=\"toc-item-num\">4.1&nbsp;&nbsp;</span>직육면체의 부피를 구해보자</a></span></li><li><span><a href=\"#연이율구하기\" data-toc-modified-id=\"연이율구하기-4.2\"><span class=\"toc-item-num\">4.2&nbsp;&nbsp;</span>연이율구하기</a></span></li><li><span><a href=\"#삼각형-넓이를-구하시오\" data-toc-modified-id=\"삼각형-넓이를-구하시오-4.3\"><span class=\"toc-item-num\">4.3&nbsp;&nbsp;</span>삼각형 넓이를 구하시오</a></span></li></ul></li></ul></div>"
   ]
  },
  {
   "cell_type": "markdown",
   "metadata": {},
   "source": [
    "---\n",
    "## 다양한 연산자들\n",
    "\n",
    "### 사칙 연산자\n",
    "- 더하기 (+)\n",
    "- 빼기 (-)\n",
    "- 곱하기 (*)\n",
    "- 나누기 (/,//,%)\n",
    "- $n$ 제곱 (**)\n",
    "\n",
    "수많은 연산자들이 존재한다."
   ]
  },
  {
   "cell_type": "code",
   "execution_count": 1,
   "metadata": {
    "ExecuteTime": {
     "end_time": "2019-11-30T10:42:47.230108Z",
     "start_time": "2019-11-30T10:42:47.226227Z"
    }
   },
   "outputs": [
    {
     "data": {
      "text/plain": [
       "-1"
      ]
     },
     "execution_count": 1,
     "metadata": {},
     "output_type": "execute_result"
    }
   ],
   "source": [
    "# 덧셈,뺄셈\n",
    "2+2-5"
   ]
  },
  {
   "cell_type": "code",
   "execution_count": 2,
   "metadata": {
    "ExecuteTime": {
     "end_time": "2019-11-30T10:42:47.386482Z",
     "start_time": "2019-11-30T10:42:47.382284Z"
    }
   },
   "outputs": [
    {
     "data": {
      "text/plain": [
       "2.6666666666666665"
      ]
     },
     "execution_count": 2,
     "metadata": {},
     "output_type": "execute_result"
    }
   ],
   "source": [
    "# 나눗셈 \n",
    "8/3"
   ]
  },
  {
   "cell_type": "code",
   "execution_count": 3,
   "metadata": {
    "ExecuteTime": {
     "end_time": "2019-11-30T10:42:47.513292Z",
     "start_time": "2019-11-30T10:42:47.509482Z"
    }
   },
   "outputs": [
    {
     "data": {
      "text/plain": [
       "2"
      ]
     },
     "execution_count": 3,
     "metadata": {},
     "output_type": "execute_result"
    }
   ],
   "source": [
    "# 나눗셈 몫 구하기 \n",
    "8//3"
   ]
  },
  {
   "cell_type": "code",
   "execution_count": 4,
   "metadata": {
    "ExecuteTime": {
     "end_time": "2019-11-30T10:42:47.629784Z",
     "start_time": "2019-11-30T10:42:47.625742Z"
    }
   },
   "outputs": [
    {
     "data": {
      "text/plain": [
       "3"
      ]
     },
     "execution_count": 4,
     "metadata": {},
     "output_type": "execute_result"
    }
   ],
   "source": [
    "# 나눗셈 나머지구하기 \n",
    "8%5"
   ]
  },
  {
   "cell_type": "code",
   "execution_count": 5,
   "metadata": {
    "ExecuteTime": {
     "end_time": "2019-11-30T10:42:47.761934Z",
     "start_time": "2019-11-30T10:42:47.758123Z"
    }
   },
   "outputs": [
    {
     "data": {
      "text/plain": [
       "10"
      ]
     },
     "execution_count": 5,
     "metadata": {},
     "output_type": "execute_result"
    }
   ],
   "source": [
    "# 곱하기 \n",
    "5*2"
   ]
  },
  {
   "cell_type": "code",
   "execution_count": 6,
   "metadata": {
    "ExecuteTime": {
     "end_time": "2019-11-30T10:42:47.886939Z",
     "start_time": "2019-11-30T10:42:47.882927Z"
    }
   },
   "outputs": [
    {
     "data": {
      "text/plain": [
       "25"
      ]
     },
     "execution_count": 6,
     "metadata": {},
     "output_type": "execute_result"
    }
   ],
   "source": [
    "# 지수승\n",
    "5**2"
   ]
  },
  {
   "cell_type": "markdown",
   "metadata": {},
   "source": [
    "## 비교 연산자 \n",
    "\n",
    "### 비교연산자 \n",
    "- ==    <U>**같으면 True, 다르면 False**</U></p>\n",
    "- !=    <U>**다르면 True, 같으면 False**</U></p>\n",
    "- <,>   <U>**크기**</U> \n",
    "\n",
    "**강조**한 텍스트 \\\n",
    "검색엔진은 [구글](https://www.google.com \"구글\")을 사용합니다.\\\n",
    "\n"
   ]
  },
  {
   "cell_type": "code",
   "execution_count": 7,
   "metadata": {
    "ExecuteTime": {
     "end_time": "2019-11-30T10:47:12.201659Z",
     "start_time": "2019-11-30T10:47:12.197806Z"
    }
   },
   "outputs": [
    {
     "name": "stdout",
     "output_type": "stream",
     "text": [
      "True\n",
      "False\n"
     ]
    }
   ],
   "source": [
    "# 숫자 비교 \n",
    "a=3\n",
    "b=3\n",
    "\n",
    "print(a==b) # 같으면 True, 다르면 False\n",
    "print(a!=b) # 다르면 True, 같으면 False"
   ]
  },
  {
   "cell_type": "code",
   "execution_count": 8,
   "metadata": {
    "ExecuteTime": {
     "end_time": "2019-11-30T10:47:12.352293Z",
     "start_time": "2019-11-30T10:47:12.348592Z"
    }
   },
   "outputs": [
    {
     "name": "stdout",
     "output_type": "stream",
     "text": [
      "False\n"
     ]
    }
   ],
   "source": [
    "# 문자열 비교 \n",
    "str1 = 'hello'\n",
    "str2 = 'world'\n",
    "\n",
    "print(str1==str2)"
   ]
  },
  {
   "cell_type": "markdown",
   "metadata": {},
   "source": [
    "### ASCII Code\n",
    "`A`merican `S`tandard `C`ode for `I`nformation `I`nterchange\n",
    "\n",
    "<img src='./img/ascii_code.png' width=70%> "
   ]
  },
  {
   "cell_type": "code",
   "execution_count": 9,
   "metadata": {
    "ExecuteTime": {
     "end_time": "2019-11-30T10:47:13.464990Z",
     "start_time": "2019-11-30T10:47:13.461843Z"
    }
   },
   "outputs": [
    {
     "name": "stdout",
     "output_type": "stream",
     "text": [
      "False\n"
     ]
    }
   ],
   "source": [
    "# 'h'가 'w'보다 먼저 나오기 때문에 (즉, 사전 순으로 비교)\n",
    "print(str1>str2) "
   ]
  },
  {
   "cell_type": "markdown",
   "metadata": {},
   "source": [
    "## 논리연산자(Logical Operators)\n",
    "\n",
    "\n",
    "\n",
    "    - `&`: And\n",
    "    - `|`: Or\n",
    "\n",
    "1. And table\n",
    "\n",
    "|p|q|p $\\wedge$  q|\n",
    "|--|--|--|\n",
    "|T|T|T|\n",
    "|T|F|F|\n",
    "|F|T|F|\n",
    "|F|F|F|\n",
    "\n",
    "2. Or table\n",
    "\n",
    "|p|q|p $\\vee$  q|\n",
    "|--|--|--|\n",
    "|T|T|T|\n",
    "|T|F|T|\n",
    "|F|T|T|\n",
    "|F|F|F|\n",
    "\n",
    "\n",
    "3. Let a = True, b = False\n",
    "\n",
    "|Operator|Description\tExample|\n",
    "|:--:|:--:|\n",
    "|AND operator|둘다 참일때만 참\t(a and b) = False|\n",
    "|OR operator| 둘 중 하나만 참이여도 참\t(a or b) = True|\n",
    "|NOT operator| 논리 상태를 반전\tnot(a and b) = True|"
   ]
  },
  {
   "cell_type": "markdown",
   "metadata": {},
   "source": [
    "### 연산순서\n",
    "\n",
    "|연산순서|연산자|\n",
    "|---|---|\n",
    "|1|`()`|  \n",
    "|2|`**`|  \n",
    "|3|`+,-`|  \n",
    "|4|`*,/,//,%`|  \n",
    "|5|`<,<=,>,>=,!=,==`|  \n",
    "|6|`not`|  \n",
    "|7|`and`| \n",
    "|8|`or`|"
   ]
  },
  {
   "cell_type": "markdown",
   "metadata": {
    "ExecuteTime": {
     "end_time": "2019-11-30T11:21:19.607744Z",
     "start_time": "2019-11-30T11:21:19.603732Z"
    }
   },
   "source": [
    "## Example :\n",
    "\n",
    "### 직육면체의 부피를 구해보자\n",
    "<img src='./img/volume.png' width=50%> "
   ]
  },
  {
   "cell_type": "code",
   "execution_count": 10,
   "metadata": {
    "ExecuteTime": {
     "end_time": "2019-11-30T11:21:37.385245Z",
     "start_time": "2019-11-30T11:21:37.382437Z"
    }
   },
   "outputs": [],
   "source": [
    "# 변수 설정 \n",
    "length = 5\n",
    "height = 5\n",
    "width = 20"
   ]
  },
  {
   "cell_type": "code",
   "execution_count": 11,
   "metadata": {
    "ExecuteTime": {
     "end_time": "2019-11-30T11:21:40.575938Z",
     "start_time": "2019-11-30T11:21:40.572249Z"
    }
   },
   "outputs": [
    {
     "name": "stdout",
     "output_type": "stream",
     "text": [
      "직육면체의 부피 : 500\n"
     ]
    }
   ],
   "source": [
    "volume = length*width*height\n",
    "print('직육면체의 부피 : %d'%volume)"
   ]
  },
  {
   "cell_type": "code",
   "execution_count": 12,
   "metadata": {
    "ExecuteTime": {
     "end_time": "2019-11-30T11:21:43.800555Z",
     "start_time": "2019-11-30T11:21:43.797100Z"
    }
   },
   "outputs": [
    {
     "name": "stdout",
     "output_type": "stream",
     "text": [
      "직육면체의 부피 : 1000\n"
     ]
    }
   ],
   "source": [
    "length = 10 # 다시 할당하면 됨\n",
    "volume = length*width*height\n",
    "print('직육면체의 부피 : %d'%volume)"
   ]
  },
  {
   "cell_type": "markdown",
   "metadata": {},
   "source": [
    "### 연이율구하기 \n",
    "```\n",
    " 2017년 7월 2일 연이율 3% 계좌를 생성하여 3000000원을 입금한 경우\n",
    " 2018년 7월 2일 계좌 총액을 계산하여 출력하는 프로그램을 작성하십시오.\n",
    " 프로그램에서 입금액을 위한 변수, 연이율을 위한 변수를 만들어 사용하십시오.\n",
    "\n",
    "위의 프로그램을  입금액과 연이율을 입력받아 총액을 출력하도록 변경하십시오.\n",
    "언어 : python3\n",
    "입력 설명 :\n",
    "\n",
    "다음은 입금액과 연이율의 입력예입니다.\n",
    "===============================\n",
    "입금액(원), 연이율(%):: 4000, 3\n",
    "출력 설명 :\n",
    "\n",
    "다음과 같이 1년 후 총액을 출력합니다.\n",
    "===============================\n",
    "4120.0\n",
    "\n",
    "샘플 입력 : 4000, 3\n",
    "샘플 출력 : 4120.0\n",
    "``` "
   ]
  },
  {
   "cell_type": "code",
   "execution_count": null,
   "metadata": {
    "ExecuteTime": {
     "end_time": "2019-11-30T15:43:00.886088Z",
     "start_time": "2019-11-30T15:42:58.219727Z"
    },
    "scrolled": true
   },
   "outputs": [],
   "source": [
    "money, ratio = eval(input('입금액(원), 연이율(%):'))\n",
    "print(money*(1+(1/100)*ratio))"
   ]
  },
  {
   "cell_type": "markdown",
   "metadata": {},
   "source": [
    "### 삼각형 넓이를 구하시오\n",
    "```\n",
    "\n",
    "삼각형의 세변의 길이가 3,4,5인 경우 삼각형 넓이는 다음과 같이 계산합니다.\n",
    "     x = (3 + 4 + 5)/2\n",
    "     넒이는   x(x-3)(x-4)(x-5)  의 양의 제곱근\n",
    "\n",
    "입력값 입력 하기 \n",
    "다음과 같이 삼각형의 세변의 길이를 입력합니다.\n",
    "======================\n",
    "삼각형 세변의 길이(comma로 구분): 3,4,5\n",
    "\n",
    "출력 설명 :\n",
    "다음과 같이 삼각형의 넓이를 출력합니다.\n",
    "======================\n",
    "6.0\n",
    "\n",
    "샘플 입력 : 3,4,5\n",
    "샘플 출력 : 6.0\n",
    "```"
   ]
  },
  {
   "cell_type": "code",
   "execution_count": null,
   "metadata": {
    "ExecuteTime": {
     "end_time": "2019-11-30T15:43:46.733074Z",
     "start_time": "2019-11-30T15:43:41.925006Z"
    }
   },
   "outputs": [],
   "source": [
    "a,b,c = eval(input())\n",
    "x = (a+b+c)/2\n",
    "area = (x*(x-a)*(x-b)*(x-c))**(0.5)\n",
    "print(area)"
   ]
  },
  {
   "cell_type": "markdown",
   "metadata": {},
   "source": [
    "어떤 값을 넣을진 모르는데 *args는 값을 넣으면 함수에 변수가 튜플형태로 입력되는 것이고,\\\n",
    "**kwargs는 딕셔너리 형태로 입력되는 것이라고 보면 된다.\n",
    "\n",
    "def a(*args):\n",
    "print args\n",
    "a(1,2,3,4,)\n",
    "\n",
    "==> (1,2,3,4)\n",
    "\n",
    "\n",
    "def b(**kwargs):\n",
    "print kwargs\n",
    "b( a=1, b=2, c=3)\n",
    "\n",
    "==>{ a:1, b:2, c:3}\n"
   ]
  },
  {
   "cell_type": "code",
   "execution_count": null,
   "metadata": {
    "ExecuteTime": {
     "end_time": "2019-11-30T11:21:59.424785Z",
     "start_time": "2019-11-30T11:21:47.788410Z"
    }
   },
   "outputs": [],
   "source": [
    "help() # q를 쳐서 exit"
   ]
  },
  {
   "cell_type": "code",
   "execution_count": null,
   "metadata": {
    "ExecuteTime": {
     "end_time": "2019-12-15T05:50:40.808696Z",
     "start_time": "2019-12-15T05:50:40.802422Z"
    }
   },
   "outputs": [],
   "source": [
    "help(map)"
   ]
  },
  {
   "cell_type": "code",
   "execution_count": null,
   "metadata": {},
   "outputs": [],
   "source": []
  }
 ],
 "metadata": {
  "kernelspec": {
   "display_name": "Python 3",
   "language": "python",
   "name": "python3"
  },
  "language_info": {
   "codemirror_mode": {
    "name": "ipython",
    "version": 3
   },
   "file_extension": ".py",
   "mimetype": "text/x-python",
   "name": "python",
   "nbconvert_exporter": "python",
   "pygments_lexer": "ipython3",
   "version": "3.5.2"
  },
  "toc": {
   "base_numbering": 1,
   "nav_menu": {},
   "number_sections": true,
   "sideBar": true,
   "skip_h1_title": true,
   "title_cell": "강의목차",
   "title_sidebar": "Contents",
   "toc_cell": true,
   "toc_position": {},
   "toc_section_display": true,
   "toc_window_display": true
  }
 },
 "nbformat": 4,
 "nbformat_minor": 2
}
