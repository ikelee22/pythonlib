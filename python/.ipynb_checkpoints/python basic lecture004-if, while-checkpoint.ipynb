{
 "cells": [
  {
   "cell_type": "markdown",
   "metadata": {},
   "source": [
    "<img src='./img/intel-logo.jpg' width=10%> \n",
    "    \n",
    "<font size=7><div align='left'>파이썬 기초강의<br>\n",
    "<br>\n",
    "<font size=6><div align='left'>04. 조건과 반복문<br> \n",
    "                        \n",
    "<img src='./img/파이썬.png' width=30%, Fig2> \n",
    "    \n",
    "<font size=3><div align='right'>\n",
    "<div align='right'>성  민  석 (Minsuk  Sung)</div>\n",
    "<div align='right'>류  회  성 (Hoesung Ryu)</div>\n",
    "<div align='right'>이  인  구 (Ike Lee)</div>     "
   ]
  },
  {
   "cell_type": "markdown",
   "metadata": {
    "toc": true
   },
   "source": [
    "<h1>강의목차<span class=\"tocSkip\"></span></h1>\n",
    "<div class=\"toc\"><ul class=\"toc-item\"><li><span><a href=\"#제어문이란?\" data-toc-modified-id=\"제어문이란?-1\"><span class=\"toc-item-num\">1&nbsp;&nbsp;</span>제어문이란?</a></span></li><li><span><a href=\"#조건문\" data-toc-modified-id=\"조건문-2\"><span class=\"toc-item-num\">2&nbsp;&nbsp;</span>조건문</a></span></li><li><span><a href=\"#반복문\" data-toc-modified-id=\"반복문-3\"><span class=\"toc-item-num\">3&nbsp;&nbsp;</span>반복문</a></span><ul class=\"toc-item\"><li><span><a href=\"#While문\" data-toc-modified-id=\"While문-3.1\"><span class=\"toc-item-num\">3.1&nbsp;&nbsp;</span>While문</a></span></li><li><span><a href=\"#for문\" data-toc-modified-id=\"for문-3.2\"><span class=\"toc-item-num\">3.2&nbsp;&nbsp;</span>for문</a></span><ul class=\"toc-item\"><li><span><a href=\"#Nested-Loop\" data-toc-modified-id=\"Nested-Loop-3.2.1\"><span class=\"toc-item-num\">3.2.1&nbsp;&nbsp;</span>Nested Loop</a></span></li></ul></li><li><span><a href=\"#break-&amp;-continue\" data-toc-modified-id=\"break-&amp;-continue-3.3\"><span class=\"toc-item-num\">3.3&nbsp;&nbsp;</span>break &amp; continue</a></span></li></ul></li></ul></div>"
   ]
  },
  {
   "cell_type": "markdown",
   "metadata": {
    "ExecuteTime": {
     "end_time": "2019-12-01T13:54:14.281172Z",
     "start_time": "2019-12-01T13:54:14.276045Z"
    }
   },
   "source": [
    "## 제어문이란?\n",
    "- 프로그램은 명령문들의 모임\n",
    "- 명령문들은 순차적으로 실행 (top-down order)\n",
    "- 제어문\n",
    "    - 명령문 실행순서를 바꾸는 문장\n",
    "    - 제어문은 하나의 문장이 위치할 수 있는 곳 어디서나 작성 가능 <br>\n",
    "`if / else if / if-elif ... else`<br>\n",
    "`while / for` <br>\n",
    "`break / continue`<br>"
   ]
  },
  {
   "cell_type": "markdown",
   "metadata": {
    "ExecuteTime": {
     "end_time": "2019-12-01T13:54:22.833282Z",
     "start_time": "2019-12-01T13:54:22.828447Z"
    }
   },
   "source": [
    "## 조건문\n",
    "```python\n",
    "if condition1:\n",
    "    statement1\n",
    "    statement2\n",
    "    statement3\n",
    "# elif condition2:\n",
    "    # statement4\n",
    "else : \n",
    "    statement5\n",
    "```\n",
    "- 수식이 `True`인 경우, if block 실행, 아니면 else block 실행  \n",
    "- else 부분은 optional  \n",
    "- 들여쓰기(indent)<br>\n",
    "`input` `map` `eval`함수 사용"
   ]
  },
  {
   "cell_type": "code",
   "execution_count": null,
   "metadata": {
    "ExecuteTime": {
     "end_time": "2019-12-01T13:55:20.852652Z",
     "start_time": "2019-12-01T13:55:16.746848Z"
    }
   },
   "outputs": [],
   "source": [
    "x = int(input(\"x : \"))\n",
    "y = int(input(\"y : \"))\n",
    "if x>y :\n",
    "    print('큰 수는 %d입니다.'%x)\n",
    "elif y>x:\n",
    "    print('큰 수는 %d입니다.'%y)\n",
    "else:\n",
    "    print('두 수가 같습니다.')"
   ]
  },
  {
   "cell_type": "code",
   "execution_count": null,
   "metadata": {
    "ExecuteTime": {
     "end_time": "2019-12-01T13:55:29.286730Z",
     "start_time": "2019-12-01T13:55:27.328388Z"
    }
   },
   "outputs": [],
   "source": [
    "a,b = map(int,input().split(','))\n",
    "print('큰 수는 %d입니다.'%(a if a>b else b))"
   ]
  },
  {
   "cell_type": "markdown",
   "metadata": {},
   "source": [
    "중복해서 if문을 걸고 싶을떄는 elif 를 사용해야 합니다 \n",
    "```python\n",
    "if condi1:\n",
    "    state1\n",
    "if condi2: # elif로 하지 않고\n",
    "    state2\n",
    "else:\n",
    "    state3\n",
    "```\n",
    "와 같이 짜면 정말 이상해질수도 있다"
   ]
  },
  {
   "cell_type": "code",
   "execution_count": null,
   "metadata": {
    "ExecuteTime": {
     "end_time": "2019-12-01T13:56:26.057218Z",
     "start_time": "2019-12-01T13:56:24.052515Z"
    }
   },
   "outputs": [],
   "source": [
    "x = eval(input())\n",
    "if type(x)==float:\n",
    "    print('소수부분 : ',x-int(x))"
   ]
  },
  {
   "cell_type": "code",
   "execution_count": null,
   "metadata": {},
   "outputs": [],
   "source": [
    "score = eval(input())\n",
    "if score >= 90:\n",
    "    print('A')\n",
    "elif score >=80 and  score < 90:\n",
    "    print('B')\n",
    "elif score >=70 and  score < 80:\n",
    "    print('C')\n",
    "elif score >=60 and  score < 70:\n",
    "    print('D')\n",
    "else:\n",
    "    print('F')"
   ]
  },
  {
   "cell_type": "code",
   "execution_count": null,
   "metadata": {
    "ExecuteTime": {
     "end_time": "2019-12-01T14:00:36.390773Z",
     "start_time": "2019-12-01T14:00:36.387001Z"
    }
   },
   "outputs": [],
   "source": [
    "if False:\n",
    "    print('True!')\n",
    "else:\n",
    "    print('False!')"
   ]
  },
  {
   "cell_type": "code",
   "execution_count": null,
   "metadata": {
    "ExecuteTime": {
     "end_time": "2019-12-01T13:57:13.438307Z",
     "start_time": "2019-12-01T13:57:09.815342Z"
    }
   },
   "outputs": [],
   "source": [
    "d = input('요일 : ')\n",
    "if d in ('Mon','Wed','Fri'):\n",
    "    attendance = True\n",
    "else:\n",
    "    attendance = False\n",
    "print(attendance)"
   ]
  },
  {
   "cell_type": "markdown",
   "metadata": {},
   "source": [
    "## 반복문\n",
    "\n",
    "### While문\n",
    "```python\n",
    "while condition:\n",
    "    statement1\n",
    "else: # this part is optional\n",
    "    statement2\n",
    "```"
   ]
  },
  {
   "cell_type": "code",
   "execution_count": null,
   "metadata": {
    "ExecuteTime": {
     "end_time": "2019-12-01T13:57:34.426936Z",
     "start_time": "2019-12-01T13:57:34.422680Z"
    }
   },
   "outputs": [],
   "source": [
    "n = 0\n",
    "while n<10:\n",
    "    print(n, end='  ') # 간격 띄우기\n",
    "    n +=1\n",
    "else:\n",
    "    print('hi')"
   ]
  },
  {
   "cell_type": "code",
   "execution_count": null,
   "metadata": {
    "ExecuteTime": {
     "end_time": "2019-12-01T13:57:49.204566Z",
     "start_time": "2019-12-01T13:57:44.615821Z"
    }
   },
   "outputs": [],
   "source": [
    "scores = eval(input('Score List: ')) # 와..[10,20,30] 이렇게 괄호 포함해서 입력해도 알아서 리스트로..\n",
    "i = 0\n",
    "sum = 0\n",
    "while i < len(scores):\n",
    "    print(scores[i],end=' ')\n",
    "    sum += scores[i]\n",
    "    i+=1\n",
    "print()\n",
    "print(sum)"
   ]
  },
  {
   "cell_type": "markdown",
   "metadata": {},
   "source": [
    "### for문"
   ]
  },
  {
   "cell_type": "code",
   "execution_count": null,
   "metadata": {
    "ExecuteTime": {
     "end_time": "2019-12-01T13:58:03.308748Z",
     "start_time": "2019-12-01T13:58:03.304421Z"
    }
   },
   "outputs": [],
   "source": [
    "for _ in range(10): # iterate 되는 것들\n",
    "    print('*',end=' ')"
   ]
  },
  {
   "cell_type": "code",
   "execution_count": null,
   "metadata": {
    "ExecuteTime": {
     "end_time": "2019-12-01T13:59:55.110043Z",
     "start_time": "2019-12-01T13:59:55.106052Z"
    }
   },
   "outputs": [],
   "source": [
    "for i in range(5):   # o부터 4까지 5번 반복 합니다. \n",
    "    print(' '*(5-i),end='')\n",
    "    print('*'*(2*i+1))"
   ]
  },
  {
   "cell_type": "markdown",
   "metadata": {},
   "source": [
    "#### Nested Loop\n",
    "반복문 안에 반복문이 중첩되는 경우"
   ]
  },
  {
   "cell_type": "code",
   "execution_count": null,
   "metadata": {
    "ExecuteTime": {
     "end_time": "2019-12-01T13:59:06.597514Z",
     "start_time": "2019-12-01T13:59:06.590199Z"
    },
    "scrolled": true
   },
   "outputs": [],
   "source": [
    "print('Pattern A')\n",
    "for i in range(1,7):\n",
    "    for j in range(1,i+1):\n",
    "        print(j,end=' ')\n",
    "    print()\n",
    "\n",
    "print()\n",
    "    \n",
    "print('Pattern B')\n",
    "for i in range(6,0,-1):\n",
    "    for j in range(1,i+1):\n",
    "        print(j,end=' ')\n",
    "    print()"
   ]
  },
  {
   "cell_type": "code",
   "execution_count": null,
   "metadata": {
    "ExecuteTime": {
     "end_time": "2019-12-01T13:59:43.149769Z",
     "start_time": "2019-12-01T13:59:43.143271Z"
    }
   },
   "outputs": [],
   "source": [
    "for i in range(1,5+1):\n",
    "    for j in range(1,i+1):\n",
    "        print(j,end=' ')\n",
    "    print()\n",
    "\n",
    "print('-'*10)    \n",
    "\n",
    "for i in range(5,0,-1):\n",
    "    for j in range(1,i+1):\n",
    "        print(j,end=' ')\n",
    "    print()"
   ]
  },
  {
   "cell_type": "markdown",
   "metadata": {},
   "source": [
    "<font size=5><div align='left'>\n",
    "`cost:` `cost.items():` `cost.keys(): `cost.value():` 함수 사용. "
   ]
  },
  {
   "cell_type": "code",
   "execution_count": null,
   "metadata": {
    "ExecuteTime": {
     "end_time": "2019-12-01T13:59:33.134531Z",
     "start_time": "2019-12-01T13:59:33.128222Z"
    }
   },
   "outputs": [],
   "source": [
    "cost = {'walking':0,'bus':1000,'taxi':3000,'car':4000,'train':6000}\n",
    "\n",
    "# dict에서 뽑으면 Key만 뽑아옴\n",
    "for i in cost:\n",
    "    print(i)\n",
    "\n",
    "# Key,Value를 각각 가져옴\n",
    "for t,c in cost.items():\n",
    "    print(t,c)\n",
    "\n",
    "# Key 만 가져옴    \n",
    "for t in cost.keys():\n",
    "    print(t, end=' ')\n",
    "    \n",
    "# Key 만 가져옴    \n",
    "for c in cost.values():\n",
    "    print(c, end=' ')"
   ]
  },
  {
   "cell_type": "markdown",
   "metadata": {},
   "source": [
    "### break & continue\n",
    "\n"
   ]
  },
  {
   "cell_type": "code",
   "execution_count": null,
   "metadata": {
    "ExecuteTime": {
     "end_time": "2019-12-01T13:58:29.538359Z",
     "start_time": "2019-12-01T13:58:29.533867Z"
    }
   },
   "outputs": [],
   "source": [
    "for i in range(10):\n",
    "    if i == 5:\n",
    "        break\n",
    "    print(i,end=' ')"
   ]
  },
  {
   "cell_type": "code",
   "execution_count": null,
   "metadata": {
    "ExecuteTime": {
     "end_time": "2019-12-01T14:00:12.131705Z",
     "start_time": "2019-12-01T14:00:12.127084Z"
    }
   },
   "outputs": [],
   "source": [
    "for i in range(10):\n",
    "    if i == 5 or i == 7:\n",
    "        continue\n",
    "    print(i,end=' ')"
   ]
  },
  {
   "cell_type": "code",
   "execution_count": null,
   "metadata": {
    "ExecuteTime": {
     "end_time": "2019-12-01T14:00:32.251207Z",
     "start_time": "2019-12-01T14:00:32.245133Z"
    }
   },
   "outputs": [],
   "source": [
    "sum = 0\n",
    "n = 20\n",
    "for i in range(0,n+1):\n",
    "    if i % 6 == 0: # 6의 배수는 더하지 않기\n",
    "        continue\n",
    "    print(i,end=' ')\n",
    "    if i != n:\n",
    "        print('+',end=' ')\n",
    "    else:\n",
    "        print()\n",
    "        print('=',end=' ')\n",
    "    sum += i\n",
    "print(sum)"
   ]
  },
  {
   "cell_type": "code",
   "execution_count": null,
   "metadata": {
    "ExecuteTime": {
     "end_time": "2019-12-01T14:00:32.410277Z",
     "start_time": "2019-12-01T14:00:32.404479Z"
    }
   },
   "outputs": [],
   "source": [
    "import random\n",
    "scores = random.sample(range(0,100), 10) # 0과 100 사이 숫자에서 10개를 선택 합니다. \n",
    "print(scores)\n",
    "#scores.sort(reverse=True)\n",
    "for i in scores:\n",
    "    if i <= 50:\n",
    "        continue\n",
    "    print(i,end=' ')"
   ]
  },
  {
   "cell_type": "code",
   "execution_count": null,
   "metadata": {},
   "outputs": [],
   "source": []
  }
 ],
 "metadata": {
  "kernelspec": {
   "display_name": "Python 3",
   "language": "python",
   "name": "python3"
  },
  "language_info": {
   "codemirror_mode": {
    "name": "ipython",
    "version": 3
   },
   "file_extension": ".py",
   "mimetype": "text/x-python",
   "name": "python",
   "nbconvert_exporter": "python",
   "pygments_lexer": "ipython3",
   "version": "3.5.2"
  },
  "toc": {
   "base_numbering": 1,
   "nav_menu": {},
   "number_sections": true,
   "sideBar": true,
   "skip_h1_title": true,
   "title_cell": "강의목차",
   "title_sidebar": "Contents",
   "toc_cell": true,
   "toc_position": {},
   "toc_section_display": true,
   "toc_window_display": true
  }
 },
 "nbformat": 4,
 "nbformat_minor": 2
}
