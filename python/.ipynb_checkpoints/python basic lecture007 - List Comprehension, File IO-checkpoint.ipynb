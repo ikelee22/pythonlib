{
 "cells": [
  {
   "cell_type": "markdown",
   "metadata": {},
   "source": [
    "<img src='./img/intel-logo.jpg' width=10%> \n",
    "    \n",
    "<font size=7><div align='left'>파이썬 기초강의<br>\n",
    "<br>\n",
    "<font size=6><div align='left'>07 - List Comprehension, File IO<br> \n",
    "                        \n",
    "<img src='./img/파이썬.png' width=30%, Fig2> \n",
    "    \n",
    "<font size=3><div align='right'>\n",
    "<div align='right'>성  민  석 (Minsuk  Sung)</div>\n",
    "<div align='right'>류  회  성 (Hoesung Ryu)</div>\n",
    "<div align='right'>이  인  구 (Ike Lee)</div>      "
   ]
  },
  {
   "cell_type": "markdown",
   "metadata": {
    "toc": true
   },
   "source": [
    "<h1>강의목차<span class=\"tocSkip\"></span></h1>\n",
    "<div class=\"toc\"><ul class=\"toc-item\"><li><span><a href=\"#List-comprehension\" data-toc-modified-id=\"List-comprehension-1\"><span class=\"toc-item-num\">1&nbsp;&nbsp;</span>List comprehension</a></span></li><li><span><a href=\"#Nested-List-Comprehension\" data-toc-modified-id=\"Nested-List-Comprehension-2\"><span class=\"toc-item-num\">2&nbsp;&nbsp;</span>Nested List Comprehension</a></span></li><li><span><a href=\"#File-I/O\" data-toc-modified-id=\"File-I/O-3\"><span class=\"toc-item-num\">3&nbsp;&nbsp;</span>File I/O</a></span><ul class=\"toc-item\"><li><span><a href=\"#File-열기-/-닫기\" data-toc-modified-id=\"File-열기-/-닫기-3.1\"><span class=\"toc-item-num\">3.1&nbsp;&nbsp;</span>File 열기 / 닫기</a></span></li><li><span><a href=\"#File-쓰기\" data-toc-modified-id=\"File-쓰기-3.2\"><span class=\"toc-item-num\">3.2&nbsp;&nbsp;</span>File 쓰기</a></span></li><li><span><a href=\"#File-한-줄-읽기\" data-toc-modified-id=\"File-한-줄-읽기-3.3\"><span class=\"toc-item-num\">3.3&nbsp;&nbsp;</span>File 한 줄 읽기</a></span></li><li><span><a href=\"#File-전체-읽기\" data-toc-modified-id=\"File-전체-읽기-3.4\"><span class=\"toc-item-num\">3.4&nbsp;&nbsp;</span>File 전체 읽기</a></span><ul class=\"toc-item\"><li><span><a href=\"#반복문-이용\" data-toc-modified-id=\"반복문-이용-3.4.1\"><span class=\"toc-item-num\">3.4.1&nbsp;&nbsp;</span>반복문 이용</a></span></li><li><span><a href=\"#한번에-읽기-=&gt;-readlines()-함수-사용\" data-toc-modified-id=\"한번에-읽기-=>-readlines()-함수-사용-3.4.2\"><span class=\"toc-item-num\">3.4.2&nbsp;&nbsp;</span>한번에 읽기 =&gt; readlines() 함수 사용</a></span></li></ul></li><li><span><a href=\"#한번에-읽기2\" data-toc-modified-id=\"한번에-읽기2-3.5\"><span class=\"toc-item-num\">3.5&nbsp;&nbsp;</span>한번에 읽기2</a></span></li><li><span><a href=\"#File에-추가로-쓰기\" data-toc-modified-id=\"File에-추가로-쓰기-3.6\"><span class=\"toc-item-num\">3.6&nbsp;&nbsp;</span>File에 추가로 쓰기</a></span></li><li><span><a href=\"#close-함수-없이-함수-닫기\" data-toc-modified-id=\"close-함수-없이-함수-닫기-3.7\"><span class=\"toc-item-num\">3.7&nbsp;&nbsp;</span>close 함수 없이 함수 닫기</a></span></li><li><span><a href=\"#os.path-module의-File-관련-함수\" data-toc-modified-id=\"os.path-module의-File-관련-함수-3.8\"><span class=\"toc-item-num\">3.8&nbsp;&nbsp;</span>os.path module의 File 관련 함수</a></span></li><li><span><a href=\"#예제\" data-toc-modified-id=\"예제-3.9\"><span class=\"toc-item-num\">3.9&nbsp;&nbsp;</span>예제</a></span></li></ul></li><li><span><a href=\"#CSV(Comma-Separated-Values)\" data-toc-modified-id=\"CSV(Comma-Separated-Values)-4\"><span class=\"toc-item-num\">4&nbsp;&nbsp;</span>CSV(Comma-Separated Values)</a></span></li></ul></div>"
   ]
  },
  {
   "cell_type": "markdown",
   "metadata": {},
   "source": [
    "## List comprehension\n",
    "To derive a new list from an existing list, doing iterative\n",
    "operations on the list.\n",
    "\n",
    "```python\n",
    "[expr for var in list filtering]\n",
    "```"
   ]
  },
  {
   "cell_type": "code",
   "execution_count": null,
   "metadata": {
    "ExecuteTime": {
     "end_time": "2019-12-01T15:03:28.872204Z",
     "start_time": "2019-12-01T15:03:28.860619Z"
    }
   },
   "outputs": [],
   "source": [
    "[x/2.0 for x in [4,5,6]]"
   ]
  },
  {
   "cell_type": "code",
   "execution_count": null,
   "metadata": {
    "ExecuteTime": {
     "end_time": "2019-12-01T15:03:31.690318Z",
     "start_time": "2019-12-01T15:03:31.685603Z"
    }
   },
   "outputs": [],
   "source": [
    "[x/2.0 for x in [4,5,6] if x > 4] # filtering도 가능함"
   ]
  },
  {
   "cell_type": "markdown",
   "metadata": {},
   "source": [
    "## Nested List Comprehension"
   ]
  },
  {
   "cell_type": "code",
   "execution_count": null,
   "metadata": {
    "ExecuteTime": {
     "end_time": "2019-12-01T15:03:41.996013Z",
     "start_time": "2019-12-01T15:03:41.991536Z"
    }
   },
   "outputs": [],
   "source": [
    "xlist = [-1,0,2]\n",
    "ylist = [2,4]\n",
    "xy = [[x,y] for x in xlist for y in ylist]\n",
    "print(xy)"
   ]
  },
  {
   "cell_type": "code",
   "execution_count": null,
   "metadata": {
    "ExecuteTime": {
     "end_time": "2019-12-01T15:03:45.145146Z",
     "start_time": "2019-12-01T15:03:45.139874Z"
    },
    "scrolled": true
   },
   "outputs": [],
   "source": [
    "[\"{0}*{1} = {2}\".format(x,y,x*y)\n",
    " for x in range(1,10) for y in range(1,10) if x%2 == 0 and y%2 == 0]"
   ]
  },
  {
   "cell_type": "markdown",
   "metadata": {},
   "source": [
    "---\n",
    "\n",
    "## File I/O\n",
    "\n",
    "### File 열기 / 닫기"
   ]
  },
  {
   "cell_type": "code",
   "execution_count": null,
   "metadata": {
    "ExecuteTime": {
     "end_time": "2019-12-01T15:05:22.316176Z",
     "start_time": "2019-12-01T15:05:22.312002Z"
    }
   },
   "outputs": [],
   "source": [
    "f = open('./data/test.txt', 'r')\n",
    "print(f.readline())\n",
    "f.close()"
   ]
  },
  {
   "cell_type": "markdown",
   "metadata": {
    "ExecuteTime": {
     "end_time": "2019-12-01T15:05:49.865418Z",
     "start_time": "2019-12-01T15:05:49.863219Z"
    }
   },
   "source": [
    "### File 쓰기"
   ]
  },
  {
   "cell_type": "code",
   "execution_count": null,
   "metadata": {
    "ExecuteTime": {
     "end_time": "2019-12-01T15:05:52.439882Z",
     "start_time": "2019-12-01T15:05:52.436442Z"
    }
   },
   "outputs": [],
   "source": [
    "f = open('./data/fun.txt', 'w')\n",
    "f.write('Programming is fun.')\n",
    "\n",
    "f = open('./data/fun.txt', 'r')\n",
    "print(f.readline())\n",
    "f.close()"
   ]
  },
  {
   "cell_type": "markdown",
   "metadata": {
    "ExecuteTime": {
     "end_time": "2019-12-01T15:05:43.928178Z",
     "start_time": "2019-12-01T15:05:43.925617Z"
    }
   },
   "source": [
    "### File 한 줄 읽기"
   ]
  },
  {
   "cell_type": "code",
   "execution_count": null,
   "metadata": {
    "ExecuteTime": {
     "end_time": "2019-12-01T15:06:01.534610Z",
     "start_time": "2019-12-01T15:06:01.530830Z"
    }
   },
   "outputs": [],
   "source": [
    "f = open(\"./data/test.txt\", 'r')\n",
    "line = f.readline()\n",
    "print(line)\n",
    "f.close()"
   ]
  },
  {
   "cell_type": "markdown",
   "metadata": {},
   "source": [
    "### File 전체 읽기\n",
    "\n",
    "#### 반복문 이용"
   ]
  },
  {
   "cell_type": "code",
   "execution_count": null,
   "metadata": {
    "ExecuteTime": {
     "end_time": "2019-12-01T15:06:18.786726Z",
     "start_time": "2019-12-01T15:06:18.781887Z"
    }
   },
   "outputs": [],
   "source": [
    "f = open(\"./data/test.txt\", 'r')\n",
    "while True :\n",
    "    line = f.readline() # 개행문자까지 다 읽어라\n",
    "    if not line:\n",
    "        break\n",
    "    print(line)\n",
    "f.close()"
   ]
  },
  {
   "cell_type": "markdown",
   "metadata": {},
   "source": [
    "#### 한번에 읽기 => readlines() 함수 사용"
   ]
  },
  {
   "cell_type": "code",
   "execution_count": null,
   "metadata": {
    "ExecuteTime": {
     "end_time": "2019-12-01T15:06:35.279997Z",
     "start_time": "2019-12-01T15:06:35.274894Z"
    }
   },
   "outputs": [],
   "source": [
    "f = open(\"./data/test.txt\", 'r')\n",
    "lines = f.readlines()\n",
    "print(\"Total Lines Num : \",len(lines))\n",
    "for line in lines: \n",
    "    print(line)\n",
    "f.close()"
   ]
  },
  {
   "cell_type": "markdown",
   "metadata": {},
   "source": [
    "### 한번에 읽기2"
   ]
  },
  {
   "cell_type": "code",
   "execution_count": null,
   "metadata": {
    "ExecuteTime": {
     "end_time": "2019-12-01T15:06:53.213152Z",
     "start_time": "2019-12-01T15:06:53.207915Z"
    }
   },
   "outputs": [],
   "source": [
    "f = open(\"./data/test.txt\", 'r')\n",
    "lines = f.read() # 모든 라인을 읽어서 내용 전체를 하나의 문자열로 리턴\n",
    "print(len(lines))\n",
    "print(lines)\n",
    "f.close()"
   ]
  },
  {
   "cell_type": "markdown",
   "metadata": {},
   "source": [
    "### File에 추가로 쓰기"
   ]
  },
  {
   "cell_type": "code",
   "execution_count": null,
   "metadata": {
    "ExecuteTime": {
     "end_time": "2019-12-01T15:07:08.077669Z",
     "start_time": "2019-12-01T15:07:08.073910Z"
    }
   },
   "outputs": [],
   "source": [
    "f = open(\"./data/fun.txt\", 'a')\n",
    "f.write('\\nhahahahahaha\\n')\n",
    "f.close()"
   ]
  },
  {
   "cell_type": "markdown",
   "metadata": {},
   "source": [
    "### close 함수 없이 함수 닫기"
   ]
  },
  {
   "cell_type": "code",
   "execution_count": null,
   "metadata": {},
   "outputs": [],
   "source": [
    "with open(\"fun.txt\", 'a') as f :\n",
    "    f.write('very very fun ')"
   ]
  },
  {
   "cell_type": "markdown",
   "metadata": {},
   "source": [
    "### os.path module의 File 관련 함수"
   ]
  },
  {
   "cell_type": "code",
   "execution_count": null,
   "metadata": {
    "ExecuteTime": {
     "end_time": "2019-12-01T15:07:39.882869Z",
     "start_time": "2019-12-01T15:07:39.878568Z"
    }
   },
   "outputs": [],
   "source": [
    "import os\n",
    "fullpath = os.getcwd() + './data/fun.txt'\n",
    "fullpath # File 경로"
   ]
  },
  {
   "cell_type": "code",
   "execution_count": null,
   "metadata": {
    "ExecuteTime": {
     "end_time": "2019-12-01T15:07:45.323143Z",
     "start_time": "2019-12-01T15:07:45.318925Z"
    }
   },
   "outputs": [],
   "source": [
    "os.path.exists(fullpath) # File 존재 확인하기"
   ]
  },
  {
   "cell_type": "code",
   "execution_count": null,
   "metadata": {
    "ExecuteTime": {
     "end_time": "2019-12-01T15:07:48.617215Z",
     "start_time": "2019-12-01T15:07:48.612468Z"
    }
   },
   "outputs": [],
   "source": [
    "os.path.dirname(fullpath) # dicrectory 경로만 추출하기"
   ]
  },
  {
   "cell_type": "code",
   "execution_count": null,
   "metadata": {
    "ExecuteTime": {
     "end_time": "2019-12-01T15:07:52.026366Z",
     "start_time": "2019-12-01T15:07:52.022181Z"
    }
   },
   "outputs": [],
   "source": [
    "os.path.basename(fullpath) # 파일 이름만 추출하기 "
   ]
  },
  {
   "cell_type": "code",
   "execution_count": null,
   "metadata": {
    "ExecuteTime": {
     "end_time": "2019-12-01T15:07:55.694083Z",
     "start_time": "2019-12-01T15:07:55.690106Z"
    }
   },
   "outputs": [],
   "source": [
    "os.path.split(fullpath) # 디렉토리와 파일로 구분"
   ]
  },
  {
   "cell_type": "code",
   "execution_count": null,
   "metadata": {
    "ExecuteTime": {
     "end_time": "2019-12-01T15:07:59.348476Z",
     "start_time": "2019-12-01T15:07:59.344486Z"
    }
   },
   "outputs": [],
   "source": [
    "os.path.splitext(fullpath) # 확장자와 나머지로 구분"
   ]
  },
  {
   "cell_type": "markdown",
   "metadata": {},
   "source": [
    "### 예제\n",
    "```\n",
    "다음과 같이 각 라인마다 점수 한개씩 기록되어 있는 score.txt 파일을 읽어서 점수들의 합계와 평균을 구하여 result.txt 파일에 쓰는 프로그램을 작성하세요.\n",
    "\n",
    "=================\n",
    "result.txt 파일 내용 (예시1)\n",
    "75\n",
    "56\n",
    "38\n",
    "98\n",
    "62\n",
    "3\n",
    "81\n",
    "17\n",
    "52\n",
    "43\n",
    "\n",
    "=================\n",
    "score.txt 파일 내용 (예시2)\n",
    "99\n",
    "100\n",
    "75\n",
    "언어 : python3\n",
    "입력 설명 :\n",
    "\n",
    "result.txt   또는 score.txt 파일 만들어 사용\n",
    "출력 설명 :\n",
    "\n",
    "sum , average 출력\n",
    "샘플 출력 :\n",
    "\n",
    "sum : 525\n",
    "average : 52.5\n",
    "```"
   ]
  },
  {
   "cell_type": "code",
   "execution_count": null,
   "metadata": {
    "ExecuteTime": {
     "end_time": "2019-12-01T15:08:16.442743Z",
     "start_time": "2019-12-01T15:08:16.436234Z"
    }
   },
   "outputs": [],
   "source": [
    "sum = 0\n",
    "avg = 0.0\n",
    "total_len = 0\n",
    "\n",
    "with open('./data/score.txt','r') as f:\n",
    "    lines = f.readlines()\n",
    "    total_len = len(lines)\n",
    "    for line in lines:\n",
    "        sum += int(line)\n",
    "    avg = sum / total_len\n",
    "        \n",
    "with open('./result.txt','w') as f:\n",
    "    result = \" sum : {}\\n average : {}\".format(sum,avg)\n",
    "    print(result)\n",
    "    f.write(result)"
   ]
  },
  {
   "cell_type": "markdown",
   "metadata": {},
   "source": [
    "## CSV(Comma-Separated Values)"
   ]
  },
  {
   "cell_type": "code",
   "execution_count": null,
   "metadata": {
    "ExecuteTime": {
     "end_time": "2019-12-01T15:08:33.453380Z",
     "start_time": "2019-12-01T15:08:33.442950Z"
    }
   },
   "outputs": [],
   "source": [
    "import csv\n",
    "filename='./data/연안정지 관측자료.csv'"
   ]
  },
  {
   "cell_type": "code",
   "execution_count": null,
   "metadata": {
    "ExecuteTime": {
     "end_time": "2019-12-01T15:08:37.047432Z",
     "start_time": "2019-12-01T15:08:37.037717Z"
    }
   },
   "outputs": [],
   "source": [
    "with open(filename, 'r', encoding='utf-8') as f:\n",
    "    reader = csv.reader(f)\n",
    "    row = next(reader)\n",
    "    print(row)"
   ]
  },
  {
   "cell_type": "code",
   "execution_count": null,
   "metadata": {
    "ExecuteTime": {
     "end_time": "2019-12-01T15:08:40.166034Z",
     "start_time": "2019-12-01T15:08:40.158833Z"
    }
   },
   "outputs": [],
   "source": [
    "with open(filename, 'r', encoding='utf-8') as f :\n",
    "    reader = csv.reader(f)\n",
    "    next(reader)\n",
    "    for row in reader:\n",
    "        print(row)"
   ]
  },
  {
   "cell_type": "code",
   "execution_count": null,
   "metadata": {},
   "outputs": [],
   "source": []
  }
 ],
 "metadata": {
  "kernelspec": {
   "display_name": "Python 3",
   "language": "python",
   "name": "python3"
  },
  "language_info": {
   "codemirror_mode": {
    "name": "ipython",
    "version": 3
   },
   "file_extension": ".py",
   "mimetype": "text/x-python",
   "name": "python",
   "nbconvert_exporter": "python",
   "pygments_lexer": "ipython3",
   "version": "3.5.2"
  },
  "toc": {
   "base_numbering": 1,
   "nav_menu": {},
   "number_sections": true,
   "sideBar": true,
   "skip_h1_title": true,
   "title_cell": "강의목차",
   "title_sidebar": "Contents",
   "toc_cell": true,
   "toc_position": {},
   "toc_section_display": true,
   "toc_window_display": true
  }
 },
 "nbformat": 4,
 "nbformat_minor": 2
}
