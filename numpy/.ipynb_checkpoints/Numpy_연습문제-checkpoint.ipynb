{
 "cells": [
  {
   "cell_type": "markdown",
   "metadata": {},
   "source": [
    "# 100 numpy exercises\n",
    "\n",
    "이것은 numpy 메일 링리스트, 스택 오버 플로우 및 numpy 문서에서 수집 된 연습 모음입니다. \n",
    "\n",
    "오류를 발견하거나 그 중 일부를 해결하는 더 좋은 방법이 있다고 생각되면 https://github.com/rougier/numpy-100에서 문제를 자유롭게 게시해주세요."
   ]
  },
  {
   "cell_type": "markdown",
   "metadata": {},
   "source": [
    "#### 1. numpy 을 사용하기 위해 불러오세요 (★☆☆)"
   ]
  },
  {
   "cell_type": "code",
   "execution_count": null,
   "metadata": {},
   "outputs": [],
   "source": [
    "import numpy as np"
   ]
  },
  {
   "cell_type": "markdown",
   "metadata": {},
   "source": [
    "#### 2. numpy version 및 구성 확인하기 (★☆☆)"
   ]
  },
  {
   "cell_type": "code",
   "execution_count": null,
   "metadata": {},
   "outputs": [],
   "source": [
    "print(np.__version__)\n",
    "np.show_config()"
   ]
  },
  {
   "cell_type": "markdown",
   "metadata": {},
   "source": [
    "#### 3. 0으로 구성된 어레이 생성 =  10개의 0을 어레이로 생성하고 프린트 하세요 (★☆☆)\n",
    ">np.zero(갯수)"
   ]
  },
  {
   "cell_type": "code",
   "execution_count": null,
   "metadata": {},
   "outputs": [],
   "source": [
    "Z = np.zeros(10)\n",
    "print(Z)"
   ]
  },
  {
   "cell_type": "markdown",
   "metadata": {},
   "source": [
    "#### 4.  0으로 구성된 (10 , 10)  어레이의 메모리 사이즈 계산하세요 (★☆☆)\n",
    ">어레이를 구성하고 <br> \n",
    ">\"%d bytes\" % (계산하고자 하는 file.size * 게산하고자 하는 file.itemsize)"
   ]
  },
  {
   "cell_type": "code",
   "execution_count": null,
   "metadata": {},
   "outputs": [],
   "source": [
    "Z = np.zeros((10,10))\n",
    "print(\"%d bytes\" % (Z.size * Z.itemsize))"
   ]
  },
  {
   "cell_type": "markdown",
   "metadata": {},
   "source": [
    "#### 6.  어레이 수정  =  0으로 구성된 (10 , 10) 어레이를 구성하고 5번째를 1로  변경하세요. (★☆☆)\n",
    ">[변경하고 하는 위치] = 1"
   ]
  },
  {
   "cell_type": "code",
   "execution_count": null,
   "metadata": {},
   "outputs": [],
   "source": [
    "Z = np.zeros(10)\n",
    "Z[4] = 1\n",
    "print(Z)"
   ]
  },
  {
   "cell_type": "markdown",
   "metadata": {},
   "source": [
    "#### 7.  어레이 구성  =  10에서 19로 구성된 어레이를 만드세요.  (★☆☆)\n",
    ">arange(시작, 끝)"
   ]
  },
  {
   "cell_type": "code",
   "execution_count": null,
   "metadata": {},
   "outputs": [],
   "source": [
    "Z = np.arange(10,20)\n",
    "print(Z)"
   ]
  },
  {
   "cell_type": "markdown",
   "metadata": {},
   "source": [
    "#### 8.  리버스 벡터 = 49부터 0까지 어레이를 구성하세요. (★☆☆)\n",
    ">Z[:: -1]"
   ]
  },
  {
   "cell_type": "code",
   "execution_count": null,
   "metadata": {},
   "outputs": [],
   "source": [
    "Z = np.arange(50)\n",
    "Z = Z[::-1]\n",
    "print(Z)"
   ]
  },
  {
   "cell_type": "markdown",
   "metadata": {},
   "source": [
    "#### 9.  어레이 구성  =  3x3 메트릭스 어레이를 구성하세요  (★☆☆)  \n",
    ">arange(9)로 어레이 구성하고 3x3으로 reshape 합니다. reshape(3,3)"
   ]
  },
  {
   "cell_type": "code",
   "execution_count": null,
   "metadata": {},
   "outputs": [],
   "source": [
    "Z = np.arange(9).reshape(3,3)\n",
    "print(Z)"
   ]
  },
  {
   "cell_type": "markdown",
   "metadata": {},
   "source": [
    "#### 11. 어레이 구성 = 3x3 eye matrix 을 구성 하세요(★☆☆)\n",
    ">eye(3)"
   ]
  },
  {
   "cell_type": "code",
   "execution_count": null,
   "metadata": {},
   "outputs": [],
   "source": [
    "Z = np.eye(3)\n",
    "print(Z)"
   ]
  },
  {
   "cell_type": "markdown",
   "metadata": {},
   "source": [
    "#### 12. 어레이 구성 =  3x3x3 random values 어레이를 구성하세요 (★☆☆)\n",
    ">random.random((3,3,3)"
   ]
  },
  {
   "cell_type": "code",
   "execution_count": null,
   "metadata": {},
   "outputs": [],
   "source": [
    "Z = np.random.random((3,3,3))\n",
    "print(Z)"
   ]
  },
  {
   "cell_type": "markdown",
   "metadata": {},
   "source": [
    "#### 13. 어레이에서 최소, 최대값 찾기 =  10x10 randmo array 구성하고 최소값과 최대값을 찾으세요 (★☆☆)\n",
    ">=Z.min(), Z.max(), Zmean()\n",
    ">print(Zmin, Zmax, Zmean)"
   ]
  },
  {
   "cell_type": "code",
   "execution_count": null,
   "metadata": {},
   "outputs": [],
   "source": [
    "Z = np.random.random((10,10))\n",
    "Zmin, Zmax, Zmean = Z.min(), Z.max(), Z.mean()\n",
    "print(Zmin, Zmax, Zmean)"
   ]
  },
  {
   "cell_type": "markdown",
   "metadata": {},
   "source": [
    "#### 15. 어레이구성 = 1으로 된 10 x 10 어레이를 만들고 테두리를제외한 부분을 0로 채우세요.  (★☆☆)\n",
    ">np.ones((숫자, 숫자)) <br>\n",
    ">Z[1:-1, 1:-1]=0"
   ]
  },
  {
   "cell_type": "code",
   "execution_count": null,
   "metadata": {},
   "outputs": [],
   "source": [
    "Z = np.ones((10,10))\n",
    "Z[1:-1,1:-1] = 0\n",
    "print(Z)"
   ]
  },
  {
   "cell_type": "markdown",
   "metadata": {},
   "source": [
    "#### 16. 어레이구성 = 1으로 된 10 x 10 어레이를 만들고 테두리 2칸을  0로 채우세요. (★☆☆)\n",
    ">np.ones((숫자, 숫자))<br>\n",
    ">np.pad(Z, pad_width=두께, mode='constant\", constant_values=채우고자하는 숫자)"
   ]
  },
  {
   "cell_type": "code",
   "execution_count": null,
   "metadata": {},
   "outputs": [],
   "source": [
    "Z = np.ones((5,5))\n",
    "Z = np.pad(Z, pad_width=2, mode='constant', constant_values=0)\n",
    "print(Z)"
   ]
  },
  {
   "cell_type": "markdown",
   "metadata": {},
   "source": [
    "#### 19. 어레이구성 = 8x8 matrix 를 만들고 0 과1의 체커 패턴을 만드세요. (★☆☆)\n",
    ">Z[1::2, ::2] = 1<br>\n",
    ">Z[::2, 1::2] = 1<br>\n",
    "<br> 또다른 옵션\n",
    ">np.tile( np.array([[0,1],[1,0]]), (?,?))"
   ]
  },
  {
   "cell_type": "code",
   "execution_count": null,
   "metadata": {},
   "outputs": [],
   "source": [
    "Z = np.zeros((8,8),dtype=int)\n",
    "Z[1::2,::2] = 1\n",
    "Z[::2,1::2] = 1\n",
    "print(Z)"
   ]
  },
  {
   "cell_type": "markdown",
   "metadata": {},
   "source": [
    "#### 24.  matrix 곱셉 = 4x3  와 3x2 matrix 곱셉을 하세요  (★☆☆) \n",
    "<img src = './img/matrix_multiplication.png' width=50%,> "
   ]
  },
  {
   "cell_type": "code",
   "execution_count": null,
   "metadata": {},
   "outputs": [],
   "source": [
    "Z = np.dot(np.ones((4,3)), np.ones((3,2)))\n",
    "print(Z)\n",
    "\n",
    "# Alternative solution, in Python 3.5 and above\n",
    "Z = np.ones((4,3)) @ np.ones((3,2))"
   ]
  },
  {
   "cell_type": "markdown",
   "metadata": {},
   "source": [
    "#### 25. 1차원 곱셈 = 0-10 까지의 1차원 어레이를 만들고 4 와 같거나  크고  8과 같거나 작은수를 음수로 만드세요. (★☆☆)\n",
    ">[(4 <= Z) & (Z <= 8)] *= -1\n",
    "<img src= 'img/연산자.png' widths = 50%>"
   ]
  },
  {
   "cell_type": "code",
   "execution_count": null,
   "metadata": {},
   "outputs": [],
   "source": [
    "Z = np.arange(10)\n",
    "Z[(4 <= Z) & (Z <= 8)] *= -1\n",
    "print(Z)"
   ]
  },
  {
   "cell_type": "code",
   "execution_count": null,
   "metadata": {
    "scrolled": true
   },
   "outputs": [],
   "source": [
    "a = (1,2,3,4,5)\n",
    "print(sum(a))"
   ]
  },
  {
   "cell_type": "markdown",
   "metadata": {},
   "source": [
    "#### 29. 차집합 = 0에서 10까지의수로 10개의 요소가 있는 렌덤 어레이를 각각 Z1, Z2을 만들고 Z1, Z2의 차집합을 구하세요(★☆☆)\n",
    ">np.random.randint(0, 10, 요소 갯수)<br>\n",
    ">np.intersect1d(어레이1, 어레이2)"
   ]
  },
  {
   "cell_type": "code",
   "execution_count": null,
   "metadata": {},
   "outputs": [],
   "source": [
    "Z1 = np.random.randint(0,10,10)\n",
    "Z2 = np.random.randint(0,10,10)\n",
    "print(Z1)\n",
    "print(Z2)\n",
    "print(np.intersect1d(Z1,Z2))"
   ]
  },
  {
   "cell_type": "markdown",
   "metadata": {},
   "source": [
    "#### 33. 날짜 = 어제와 오늘 그리고 내일은 몇일 인가요? (★☆☆)\n",
    ">yesterday = np.datetime64('today', 'D') - np.timedelta64(1, 'D')<br>\n",
    "today     = np.datetime64('today', 'D')<br>\n",
    "tomorrow  = np.datetime64('today', 'D') + np.timedelta64(1, 'D')<br>"
   ]
  },
  {
   "cell_type": "code",
   "execution_count": null,
   "metadata": {},
   "outputs": [],
   "source": [
    "yesterday = np.datetime64('today', 'D') - np.timedelta64(1, 'D')\n",
    "today     = np.datetime64('today', 'D')\n",
    "tomorrow  = np.datetime64('today', 'D') + np.timedelta64(1, 'D')\n",
    "print(today)\n",
    "print(tomorrow)"
   ]
  },
  {
   "cell_type": "markdown",
   "metadata": {},
   "source": [
    "#### 34. 날짜 = 2020 년 2월의 날짜를 표기 하세요  (★★☆)\n",
    ">Z = np.arange('시작 월(2020-02)', '종료날짜', dtype='datetime64[D]')"
   ]
  },
  {
   "cell_type": "code",
   "execution_count": null,
   "metadata": {},
   "outputs": [],
   "source": [
    "Z = np.arange('2020-02', '2020-03', dtype='datetime64[D]')\n",
    "print(Z)"
   ]
  },
  {
   "cell_type": "markdown",
   "metadata": {},
   "source": [
    "#### 35. 연산 =  ((A+B)\\*(-A/2))을 계산 하세요. (★★☆)\n",
    "1차원 3개의 요소로 구성된 A 와 B 어레이를 만들고 계산식을 만듭니다.  \n",
    "\n",
    ">np.add(A,B,out=B)<br>\n",
    "np.divide(A,2,out=A)<br>\n",
    "np.negative(A,out=A)<br>\n",
    "np.multiply(A,B,out=A)<br>"
   ]
  },
  {
   "cell_type": "code",
   "execution_count": null,
   "metadata": {},
   "outputs": [],
   "source": [
    "A = np.ones(3)*1\n",
    "B = np.ones(3)*2\n",
    "\n",
    "C = np.add(A,B)\n",
    " \n",
    "D = np.divide(A, 2)\n",
    "D = np.negative(D)\n",
    "Ans = np.multiply(C,D)\n",
    "\n",
    "print(A)\n",
    "print(B)\n",
    "print(C)\n",
    "print(D)\n",
    "print('Ans = {}'.format(Ans))\n",
    "\n",
    "np.add(A,B,out=B)\n",
    "np.divide(A,2,out=A)\n",
    "np.negative(A,out=A)\n",
    "np.multiply(A,B,out=A)\n"
   ]
  },
  {
   "cell_type": "markdown",
   "metadata": {},
   "source": [
    "#### 37. 연산 =  0 으로 구성된 5x5 matrix 를 구성하고 각 요소에 0~4를 더하세요 (★★☆)"
   ]
  },
  {
   "cell_type": "code",
   "execution_count": null,
   "metadata": {},
   "outputs": [],
   "source": [
    "Z = np.zeros((5,5))\n",
    "Z += np.arange(5)\n",
    "c = np.arange(5)\n",
    "print(c)\n",
    "print(Z)"
   ]
  },
  {
   "cell_type": "markdown",
   "metadata": {},
   "source": [
    "#### 41. 계산 = np.sum보다  빠르게 계산하기 (★★☆)"
   ]
  },
  {
   "cell_type": "code",
   "execution_count": null,
   "metadata": {},
   "outputs": [],
   "source": [
    "# Author: Evgeni Burovski\n",
    "\n",
    "Z = np.arange(10)\n",
    "np.add.reduce(Z)\n",
    "#np.sum(Z)\n"
   ]
  },
  {
   "cell_type": "markdown",
   "metadata": {},
   "source": [
    "#### 42. A 와  B 렌덤 어레이를 만들고 두 어레이가 같은지 체크 하세요 (★★☆)"
   ]
  },
  {
   "cell_type": "code",
   "execution_count": null,
   "metadata": {},
   "outputs": [],
   "source": [
    "A = np.random.randint(0,2,5)\n",
    "B = np.random.randint(0,2,5)\n",
    "\n",
    "# Assuming identical shape of the arrays and a tolerance for the comparison of values\n",
    "equal = np.allclose(A,B)\n",
    "print(equal)\n",
    "\n",
    "# Checking both the shape and the element values, no tolerance (values have to be exactly equal)\n",
    "equal = np.array_equal(A,B)\n",
    "print(equal)"
   ]
  },
  {
   "cell_type": "markdown",
   "metadata": {},
   "source": [
    "#### 51. Create a structured array representing a position (x,y) and a color (r,g,b) (★★☆)"
   ]
  },
  {
   "cell_type": "code",
   "execution_count": null,
   "metadata": {},
   "outputs": [],
   "source": [
    "Z = np.zeros(10, [ ('position', [ ('x', float, 1),\n",
    "                                  ('y', float, 1)]),\n",
    "                   ('color',    [ ('r', float, 1),\n",
    "                                  ('g', float, 1),\n",
    "                                  ('b', float, 1)])])\n",
    "print(Z)"
   ]
  },
  {
   "cell_type": "markdown",
   "metadata": {},
   "source": [
    "#### 53. float 32bit을 integer 32bit 으로 변환 하세요. \n",
    ">10개요로 구성된 float 32bit array를 만들고, 이것을 integer 32bit으로 변환 하세요. <br>\n",
    ">(10, dtype=np.float32)<br>\n",
    ">astype(np.int32), "
   ]
  },
  {
   "cell_type": "code",
   "execution_count": null,
   "metadata": {},
   "outputs": [],
   "source": [
    "Z = np.arange(10, dtype=np.float32)\n",
    "Z = Z.astype(np.int32, copy=False)\n",
    "#Z = Z.astype(np.int32),  dtype=np.float32)\n",
    "print(Z)"
   ]
  },
  {
   "cell_type": "markdown",
   "metadata": {},
   "source": [
    "#### 58. 5x10 어레이를 만들고 어레이에서 평균값을 빼세요. (★★☆)\n",
    ">np.random.rand(5, 10)<br>\n",
    ">X - X.mean(axis=1, keepdims=True)"
   ]
  },
  {
   "cell_type": "code",
   "execution_count": null,
   "metadata": {},
   "outputs": [],
   "source": [
    "# Author: Warren Weckesser\n",
    "\n",
    "X = np.random.rand(5, 10)\n",
    "\n",
    "# Recent versions of numpy\n",
    "Y = X - X.mean(axis=1, keepdims=True)\n",
    "\n",
    "print(Y)"
   ]
  },
  {
   "cell_type": "markdown",
   "metadata": {},
   "source": [
    "#### 59. 작은값 부터 데이터의 위치를 반환 하세요. (★★☆)\n",
    "- argsort-작은값부터 순서대로 데이터의 위치를 반환\n"
   ]
  },
  {
   "cell_type": "code",
   "execution_count": null,
   "metadata": {},
   "outputs": [],
   "source": [
    "# Author: Steve Tjoa\n",
    "\n",
    "Z = np.random.randint(0,10,(3,3))\n",
    "print(Z)\n",
    "\n",
    "Y=Z.argsort()\n",
    "print(Y)"
   ]
  },
  {
   "cell_type": "markdown",
   "metadata": {},
   "source": [
    "#### 64. 열개의 어레이를 만들고 각각의 요소에 1을 더하세요. (★★★)\n",
    ">+=1"
   ]
  },
  {
   "cell_type": "code",
   "execution_count": null,
   "metadata": {},
   "outputs": [],
   "source": [
    "# Author: Brett Olsen\n",
    "\n",
    "Z = np.random.randint(0,10,10)\n",
    "print(Z)\n",
    "\n",
    "Z +=1\n",
    "print(Z)"
   ]
  }
 ],
 "metadata": {
  "kernelspec": {
   "display_name": "Python 3",
   "language": "python",
   "name": "python3"
  },
  "language_info": {
   "codemirror_mode": {
    "name": "ipython",
    "version": 3
   },
   "file_extension": ".py",
   "mimetype": "text/x-python",
   "name": "python",
   "nbconvert_exporter": "python",
   "pygments_lexer": "ipython3",
   "version": "3.5.2"
  },
  "toc": {
   "base_numbering": 1,
   "nav_menu": {},
   "number_sections": true,
   "sideBar": true,
   "skip_h1_title": false,
   "title_cell": "Table of Contents",
   "title_sidebar": "Contents",
   "toc_cell": false,
   "toc_position": {},
   "toc_section_display": true,
   "toc_window_display": false
  }
 },
 "nbformat": 4,
 "nbformat_minor": 1
}
