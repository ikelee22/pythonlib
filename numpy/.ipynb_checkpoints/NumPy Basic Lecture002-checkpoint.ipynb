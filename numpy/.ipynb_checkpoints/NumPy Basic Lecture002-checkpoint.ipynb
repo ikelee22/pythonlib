{
 "cells": [
  {
   "cell_type": "markdown",
   "metadata": {},
   "source": [
    "<img src='./img/intel-logo.jpg' width=10%, Fig1> \n",
    "    \n",
    "<font size=7><div align='left'>NumPy<br>\n",
    "    \n",
    "<font size=6><div align='left'>Lecture02 - NumPy I/O 및 배열연산<br>\n",
    "<img src='./img/numpy-logo.jpg' width=30%>\n",
    "    \n",
    "<font size=3><div align='right'>\n",
    "<div align='right'>성  민  석 (Minsuk  Sung)</div>\n",
    "<div align='right'>류  회  성 (Hoesung Ryu)</div>\n",
    "<div align='right'>이  인  구 (Ike Lee)</div>"
   ]
  },
  {
   "cell_type": "markdown",
   "metadata": {
    "toc": true
   },
   "source": [
    "<h1>강의목차<span class=\"tocSkip\"></span></h1>\n",
    "<div class=\"toc\"><ul class=\"toc-item\"><li><span><a href=\"#NumPy-입출력\" data-toc-modified-id=\"NumPy-입출력-1\"><span class=\"toc-item-num\">1&nbsp;&nbsp;</span>NumPy 입출력</a></span><ul class=\"toc-item\"><li><span><a href=\"#np.save\" data-toc-modified-id=\"np.save-1.1\"><span class=\"toc-item-num\">1.1&nbsp;&nbsp;</span>np.save</a></span></li><li><span><a href=\"#np.savez\" data-toc-modified-id=\"np.savez-1.2\"><span class=\"toc-item-num\">1.2&nbsp;&nbsp;</span>np.savez</a></span></li><li><span><a href=\"#np.load\" data-toc-modified-id=\"np.load-1.3\"><span class=\"toc-item-num\">1.3&nbsp;&nbsp;</span>np.load</a></span></li><li><span><a href=\"#np.loadtxt\" data-toc-modified-id=\"np.loadtxt-1.4\"><span class=\"toc-item-num\">1.4&nbsp;&nbsp;</span>np.loadtxt</a></span></li><li><span><a href=\"#np.savetxt\" data-toc-modified-id=\"np.savetxt-1.5\"><span class=\"toc-item-num\">1.5&nbsp;&nbsp;</span>np.savetxt</a></span></li></ul></li><li><span><a href=\"#NumPy-배열연산\" data-toc-modified-id=\"NumPy-배열연산-2\"><span class=\"toc-item-num\">2&nbsp;&nbsp;</span>NumPy 배열연산</a></span><ul class=\"toc-item\"><li><span><a href=\"#배열-일반-연산\" data-toc-modified-id=\"배열-일반-연산-2.1\"><span class=\"toc-item-num\">2.1&nbsp;&nbsp;</span>배열 일반 연산</a></span><ul class=\"toc-item\"><li><span><a href=\"#산술-연산\" data-toc-modified-id=\"산술-연산-2.1.1\"><span class=\"toc-item-num\">2.1.1&nbsp;&nbsp;</span>산술 연산</a></span><ul class=\"toc-item\"><li><span><a href=\"#덧셈\" data-toc-modified-id=\"덧셈-2.1.1.1\"><span class=\"toc-item-num\">2.1.1.1&nbsp;&nbsp;</span>덧셈</a></span></li><li><span><a href=\"#뺄셈\" data-toc-modified-id=\"뺄셈-2.1.1.2\"><span class=\"toc-item-num\">2.1.1.2&nbsp;&nbsp;</span>뺄셈</a></span></li><li><span><a href=\"#곱셈\" data-toc-modified-id=\"곱셈-2.1.1.3\"><span class=\"toc-item-num\">2.1.1.3&nbsp;&nbsp;</span>곱셈</a></span></li><li><span><a href=\"#나눗셈\" data-toc-modified-id=\"나눗셈-2.1.1.4\"><span class=\"toc-item-num\">2.1.1.4&nbsp;&nbsp;</span>나눗셈</a></span></li><li><span><a href=\"#지수\" data-toc-modified-id=\"지수-2.1.1.5\"><span class=\"toc-item-num\">2.1.1.5&nbsp;&nbsp;</span>지수</a></span></li><li><span><a href=\"#로그\" data-toc-modified-id=\"로그-2.1.1.6\"><span class=\"toc-item-num\">2.1.1.6&nbsp;&nbsp;</span>로그</a></span></li><li><span><a href=\"#제곱근\" data-toc-modified-id=\"제곱근-2.1.1.7\"><span class=\"toc-item-num\">2.1.1.7&nbsp;&nbsp;</span>제곱근</a></span></li><li><span><a href=\"#삼각함수-sin\" data-toc-modified-id=\"삼각함수-sin-2.1.1.8\"><span class=\"toc-item-num\">2.1.1.8&nbsp;&nbsp;</span>삼각함수 sin</a></span></li><li><span><a href=\"#삼각함수-cos\" data-toc-modified-id=\"삼각함수-cos-2.1.1.9\"><span class=\"toc-item-num\">2.1.1.9&nbsp;&nbsp;</span>삼각함수 cos</a></span></li><li><span><a href=\"#삼각함수-tan\" data-toc-modified-id=\"삼각함수-tan-2.1.1.10\"><span class=\"toc-item-num\">2.1.1.10&nbsp;&nbsp;</span>삼각함수 tan</a></span></li><li><span><a href=\"#내적-(dot-product)\" data-toc-modified-id=\"내적-(dot-product)-2.1.1.11\"><span class=\"toc-item-num\">2.1.1.11&nbsp;&nbsp;</span>내적 (dot product)</a></span></li></ul></li><li><span><a href=\"#비교-연산\" data-toc-modified-id=\"비교-연산-2.1.2\"><span class=\"toc-item-num\">2.1.2&nbsp;&nbsp;</span>비교 연산</a></span><ul class=\"toc-item\"><li><span><a href=\"#배열의-요소별-비교-(Element-wise)\" data-toc-modified-id=\"배열의-요소별-비교-(Element-wise)-2.1.2.1\"><span class=\"toc-item-num\">2.1.2.1&nbsp;&nbsp;</span>배열의 요소별 비교 (Element-wise)</a></span></li><li><span><a href=\"#배열-비교-(Array-wise)\" data-toc-modified-id=\"배열-비교-(Array-wise)-2.1.2.2\"><span class=\"toc-item-num\">2.1.2.2&nbsp;&nbsp;</span>배열 비교 (Array-wise)</a></span></li></ul></li><li><span><a href=\"#집계-연산\" data-toc-modified-id=\"집계-연산-2.1.3\"><span class=\"toc-item-num\">2.1.3&nbsp;&nbsp;</span>집계 연산</a></span><ul class=\"toc-item\"><li><span><a href=\"#np.sum\" data-toc-modified-id=\"np.sum-2.1.3.1\"><span class=\"toc-item-num\">2.1.3.1&nbsp;&nbsp;</span>np.sum</a></span></li><li><span><a href=\"#np.min\" data-toc-modified-id=\"np.min-2.1.3.2\"><span class=\"toc-item-num\">2.1.3.2&nbsp;&nbsp;</span>np.min</a></span></li><li><span><a href=\"#np.max\" data-toc-modified-id=\"np.max-2.1.3.3\"><span class=\"toc-item-num\">2.1.3.3&nbsp;&nbsp;</span>np.max</a></span></li><li><span><a href=\"#np.cumsum\" data-toc-modified-id=\"np.cumsum-2.1.3.4\"><span class=\"toc-item-num\">2.1.3.4&nbsp;&nbsp;</span>np.cumsum</a></span></li><li><span><a href=\"#np.mean\" data-toc-modified-id=\"np.mean-2.1.3.5\"><span class=\"toc-item-num\">2.1.3.5&nbsp;&nbsp;</span>np.mean</a></span></li><li><span><a href=\"#np.median\" data-toc-modified-id=\"np.median-2.1.3.6\"><span class=\"toc-item-num\">2.1.3.6&nbsp;&nbsp;</span>np.median</a></span></li><li><span><a href=\"#np.corrcoef\" data-toc-modified-id=\"np.corrcoef-2.1.3.7\"><span class=\"toc-item-num\">2.1.3.7&nbsp;&nbsp;</span>np.corrcoef</a></span></li><li><span><a href=\"#np.std\" data-toc-modified-id=\"np.std-2.1.3.8\"><span class=\"toc-item-num\">2.1.3.8&nbsp;&nbsp;</span>np.std</a></span></li></ul></li></ul></li><li><span><a href=\"#브로드캐스팅\" data-toc-modified-id=\"브로드캐스팅-2.2\"><span class=\"toc-item-num\">2.2&nbsp;&nbsp;</span>브로드캐스팅</a></span><ul class=\"toc-item\"><li><span><a href=\"#Shape이-같은-배열의-이항-연산\" data-toc-modified-id=\"Shape이-같은-배열의-이항-연산-2.2.1\"><span class=\"toc-item-num\">2.2.1&nbsp;&nbsp;</span>Shape이 같은 배열의 이항 연산</a></span></li><li><span><a href=\"#Shape이-다른-두-배열의-연산\" data-toc-modified-id=\"Shape이-다른-두-배열의-연산-2.2.2\"><span class=\"toc-item-num\">2.2.2&nbsp;&nbsp;</span>Shape이 다른 두 배열의 연산</a></span><ul class=\"toc-item\"><li><span><a href=\"#배열과-스칼라\" data-toc-modified-id=\"배열과-스칼라-2.2.2.1\"><span class=\"toc-item-num\">2.2.2.1&nbsp;&nbsp;</span>배열과 스칼라</a></span></li><li><span><a href=\"#Shape이-다른-배열들의-연산\" data-toc-modified-id=\"Shape이-다른-배열들의-연산-2.2.2.2\"><span class=\"toc-item-num\">2.2.2.2&nbsp;&nbsp;</span>Shape이 다른 배열들의 연산</a></span></li></ul></li></ul></li><li><span><a href=\"#백터연산\" data-toc-modified-id=\"백터연산-2.3\"><span class=\"toc-item-num\">2.3&nbsp;&nbsp;</span>백터연산</a></span><ul class=\"toc-item\"><li><span><a href=\"#loop-문을-이용한-연산\" data-toc-modified-id=\"loop-문을-이용한-연산-2.3.1\"><span class=\"toc-item-num\">2.3.1&nbsp;&nbsp;</span>loop 문을 이용한 연산</a></span></li><li><span><a href=\"#NumPy의-벡터연산\" data-toc-modified-id=\"NumPy의-벡터연산-2.3.2\"><span class=\"toc-item-num\">2.3.2&nbsp;&nbsp;</span>NumPy의 벡터연산</a></span></li></ul></li></ul></li><li><span><a href=\"#NumPy-배열복사\" data-toc-modified-id=\"NumPy-배열복사-3\"><span class=\"toc-item-num\">3&nbsp;&nbsp;</span>NumPy 배열복사</a></span></li><li><span><a href=\"#NumPy-배열-정렬\" data-toc-modified-id=\"NumPy-배열-정렬-4\"><span class=\"toc-item-num\">4&nbsp;&nbsp;</span>NumPy 배열 정렬</a></span></li><li><span><a href=\"#Reference\" data-toc-modified-id=\"Reference-5\"><span class=\"toc-item-num\">5&nbsp;&nbsp;</span>Reference</a></span></li></ul></div>"
   ]
  },
  {
   "cell_type": "code",
   "execution_count": null,
   "metadata": {
    "ExecuteTime": {
     "end_time": "2019-12-03T07:50:43.645546Z",
     "start_time": "2019-12-03T07:50:43.574948Z"
    }
   },
   "outputs": [],
   "source": [
    "import numpy as np"
   ]
  },
  {
   "cell_type": "markdown",
   "metadata": {},
   "source": [
    "### 파이썬에서 시드를 설정하는 명령은 seed입니다. 인수로는 0과 같거나 큰 정수를 넣어줍니다.\n",
    "\n",
    ">np.random.seed(0)<br>\n",
    "이렇게 시드를 설정한 후 rand 명령으로 5개의 난수를 생성해 보세요.<br>\n",
    "다른 난수 관련 명령어를 실행하지 말고 바로 다음 명령을 실행해야 합니다.<br>\n",
    "rand 명령은 0과 1사이의 난수를 발생시키는 명령으로 인수로 받은 숫자 횟수만큼 난수를 발생시킵니다.<br>\n",
    ">np.random.rand(5)"
   ]
  },
  {
   "cell_type": "code",
   "execution_count": null,
   "metadata": {},
   "outputs": [],
   "source": [
    "np.random.seed(0)\n",
    "np.random.rand(5)"
   ]
  },
  {
   "cell_type": "markdown",
   "metadata": {},
   "source": [
    "## 난수 생성\n",
    "NumPy의 random 서브패키지에는 난수를 생성하는 다양한 명령을 제공하며, <br>\n",
    "그 중 가장 간단하고 많이 사용되는 것은 다음 3가지 명령이다.<br>\n",
    "\n",
    ">rand: 0부터 1사이의 균일 분포<br>\n",
    ">randn: 가우시안 표준 정규 분포<br>\n",
    ">randint: 균일 분포의 정수 난수 <br>  예제) numpy.random.randint(low, high=None, size=None)<br>"
   ]
  },
  {
   "cell_type": "code",
   "execution_count": null,
   "metadata": {},
   "outputs": [],
   "source": [
    "# rand 명령은 0부터 1사이에서 균일한 확률 분포로 실수 난수를 생성합니다. 여러개의 인수를 넣으면 해당 크기를 가진 행렬을 생성합니다.\n",
    "np.random.rand(2, 3, 4)"
   ]
  },
  {
   "cell_type": "code",
   "execution_count": null,
   "metadata": {},
   "outputs": [],
   "source": [
    "# randn 명령은 기댓값이 0이고 표준편차가 1인 가우시안 표준 정규 분포를 따르는 난수를 생성합니다. 인수 사용법은 rand 명령과 같습니다.\n",
    "\n",
    "np.random.randn(10)"
   ]
  },
  {
   "cell_type": "code",
   "execution_count": null,
   "metadata": {},
   "outputs": [],
   "source": [
    "np.random.randn(3, 5)"
   ]
  },
  {
   "cell_type": "code",
   "execution_count": null,
   "metadata": {},
   "outputs": [],
   "source": [
    "# high를 입력하지 않으면 0과 low사이의 숫자를, high를 입력하면 low와 high는 사이의 숫자를 출력합니다. size는 난수의 숫자입니다.\n",
    "# numpy.random.randint(low, high=None, size=None)\n",
    "\n",
    "np.random.randint(10, size=10)"
   ]
  },
  {
   "cell_type": "code",
   "execution_count": null,
   "metadata": {},
   "outputs": [],
   "source": [
    "np.random.randint(10, 20, size=10)"
   ]
  },
  {
   "cell_type": "code",
   "execution_count": null,
   "metadata": {},
   "outputs": [],
   "source": [
    "np.random.randint(10, 20, size=(3, 5))"
   ]
  },
  {
   "cell_type": "code",
   "execution_count": null,
   "metadata": {
    "ExecuteTime": {
     "end_time": "2019-12-03T07:50:43.657324Z",
     "start_time": "2019-12-03T07:50:43.649743Z"
    }
   },
   "outputs": [],
   "source": [
    "a = np.random.randint(0, 10, (2, 3))\n",
    "a"
   ]
  },
  {
   "cell_type": "code",
   "execution_count": null,
   "metadata": {},
   "outputs": [],
   "source": []
  },
  {
   "cell_type": "markdown",
   "metadata": {},
   "source": [
    "---\n",
    "\n",
    "## NumPy 입출력\n",
    "\n",
    "NumPy는 배열 객체를 바이너리 파일 혹은 텍스트 파일에 저장하고 로딩하는 기능을 제공합니다.\n",
    "\n",
    "|함수명|기능|파일포맷|\n",
    "|---|---|---|\n",
    "|np.`save`()|\tNumPy 배열 객체 1개를 파일에 저장|\t바이너리\n",
    "|np.`savez`()|\tNumPy 배열 객체 복수개를 파일에 저장|\t바이너리\n",
    "|np.`load`()|\tNumPy 배열 저장 파일로 부터 객체 로딩|\t바이너리\n",
    "|np.`loadtxt`()|\t텍스트 파일로 부터 배열 로딩|\t텍스트\n",
    "|np.`savetxt`()|\t텍스트 파일에 NumPy 배열 객체 저장|\t텍스트"
   ]
  },
  {
   "cell_type": "markdown",
   "metadata": {},
   "source": [
    "### np.save\n",
    "\n",
    "> np.save : 배열 객체 저장\n",
    "\n",
    "- np.save 함수를 이용하여 배열 객체를 파일로 저장할 수 있습니다.\n",
    "- np.save: 1개 배열 저장, 확장자: npy\n",
    "\n",
    "배열 저장 파일은 바이너리 형태입니다."
   ]
  },
  {
   "cell_type": "code",
   "execution_count": null,
   "metadata": {
    "ExecuteTime": {
     "end_time": "2019-12-03T07:50:43.664472Z",
     "start_time": "2019-12-03T07:50:43.662421Z"
    }
   },
   "outputs": [],
   "source": [
    "# 배열 하나 저장\n",
    "np.save(\"./data/array_a\", a)"
   ]
  },
  {
   "cell_type": "code",
   "execution_count": null,
   "metadata": {
    "ExecuteTime": {
     "end_time": "2019-12-03T07:50:43.778880Z",
     "start_time": "2019-12-03T07:50:43.665333Z"
    }
   },
   "outputs": [],
   "source": [
    "!ls -al data/array_a*"
   ]
  },
  {
   "cell_type": "markdown",
   "metadata": {},
   "source": [
    "### np.savez\n",
    "\n",
    "> np.savez : 배열 객체 저장\n",
    "\n",
    "- np.savez: 복수 배열을 1개의 파일에 저장, 확장자: npz\n",
    "\n",
    "배열 저장 파일은 바이너리 형태입니다."
   ]
  },
  {
   "cell_type": "code",
   "execution_count": null,
   "metadata": {
    "ExecuteTime": {
     "end_time": "2019-12-03T07:50:43.657324Z",
     "start_time": "2019-12-03T07:50:43.649743Z"
    }
   },
   "outputs": [],
   "source": [
    "b = np.random.randint(10, 20, (2, 3))\n",
    "b"
   ]
  },
  {
   "cell_type": "code",
   "execution_count": null,
   "metadata": {
    "ExecuteTime": {
     "end_time": "2019-12-03T07:50:43.790721Z",
     "start_time": "2019-12-03T07:50:43.784626Z"
    }
   },
   "outputs": [],
   "source": [
    "# 배열 2개 저장\n",
    "np.savez(\"./data/array_ab\", a, b)"
   ]
  },
  {
   "cell_type": "code",
   "execution_count": null,
   "metadata": {
    "ExecuteTime": {
     "end_time": "2019-12-03T07:50:43.905591Z",
     "start_time": "2019-12-03T07:50:43.792479Z"
    }
   },
   "outputs": [],
   "source": [
    "!ls -al data/array_ab*"
   ]
  },
  {
   "cell_type": "markdown",
   "metadata": {},
   "source": [
    "### np.load\n",
    "\n",
    "> np.load : npy와 npz 파일을 읽어옴"
   ]
  },
  {
   "cell_type": "code",
   "execution_count": null,
   "metadata": {
    "ExecuteTime": {
     "end_time": "2019-12-03T07:50:43.917356Z",
     "start_time": "2019-12-03T07:50:43.912700Z"
    }
   },
   "outputs": [],
   "source": [
    "np.load(\"./data/array_a.npy\")"
   ]
  },
  {
   "cell_type": "code",
   "execution_count": null,
   "metadata": {
    "ExecuteTime": {
     "end_time": "2019-12-03T07:50:43.917356Z",
     "start_time": "2019-12-03T07:50:43.912700Z"
    }
   },
   "outputs": [],
   "source": [
    "np.load(\"./data/array_ab.npz\")"
   ]
  },
  {
   "cell_type": "code",
   "execution_count": null,
   "metadata": {
    "ExecuteTime": {
     "end_time": "2019-12-03T07:50:43.921894Z",
     "start_time": "2019-12-03T07:50:43.918359Z"
    }
   },
   "outputs": [],
   "source": [
    "npzfiles = np.load(\"./data/array_ab.npz\")\n",
    "npzfiles.files"
   ]
  },
  {
   "cell_type": "code",
   "execution_count": null,
   "metadata": {
    "ExecuteTime": {
     "end_time": "2019-12-03T07:50:43.925746Z",
     "start_time": "2019-12-03T07:50:43.922823Z"
    }
   },
   "outputs": [],
   "source": [
    "npzfiles['arr_0']"
   ]
  },
  {
   "cell_type": "code",
   "execution_count": null,
   "metadata": {
    "ExecuteTime": {
     "end_time": "2019-12-03T07:50:43.929328Z",
     "start_time": "2019-12-03T07:50:43.926674Z"
    }
   },
   "outputs": [],
   "source": [
    "npzfiles['arr_1']"
   ]
  },
  {
   "cell_type": "markdown",
   "metadata": {},
   "source": [
    "### np.loadtxt\n",
    "\n",
    "> np.loadtxt(fname, dtype=<class 'float'>, comments='#', delimiter=None, converters=None, skiprows=0, usecols=None, unpack=False, ndmin=0)\n",
    "- fname: 파일명\n",
    "- dtype: 데이터 타입\n",
    "- comments: comment 시작 부호\n",
    "- delimiter: 구분자\n",
    "- skiprows: 제외 라인 수(header 제거용)\n",
    "\n",
    "텍스트 파일을 np.loadtxt 로 로딩 할 수 있습니다."
   ]
  },
  {
   "cell_type": "code",
   "execution_count": null,
   "metadata": {
    "ExecuteTime": {
     "end_time": "2019-12-03T07:50:44.041195Z",
     "start_time": "2019-12-03T07:50:43.930385Z"
    }
   },
   "outputs": [],
   "source": [
    "# 데이터 파일 위치\n",
    "!ls -al ./data/sample.txt"
   ]
  },
  {
   "cell_type": "code",
   "execution_count": null,
   "metadata": {
    "ExecuteTime": {
     "end_time": "2019-12-03T07:50:44.176098Z",
     "start_time": "2019-12-03T07:50:44.046825Z"
    }
   },
   "outputs": [],
   "source": [
    "# 데이터 파일 내용\n",
    "!cat ./data/sample.txt"
   ]
  },
  {
   "cell_type": "code",
   "execution_count": null,
   "metadata": {
    "ExecuteTime": {
     "end_time": "2019-12-03T07:50:44.200289Z",
     "start_time": "2019-12-03T07:50:44.181742Z"
    }
   },
   "outputs": [],
   "source": [
    "np.loadtxt(\"./data/sample.txt\",delimiter=',',dtype=np.int)"
   ]
  },
  {
   "cell_type": "markdown",
   "metadata": {},
   "source": [
    "### np.savetxt\n",
    "\n",
    "> np.savetxt(fname, X, fmt='%.18e', delimiter=' ', newline='\\n', header='', footer='', comments='# ')\n",
    "\n",
    "- 배열 객체 텍스트 파일로 저장\n",
    "- np.savetxt 함수를 이용하여 배열 객체를 텍스트 파일로 저장할 수 있습니다."
   ]
  },
  {
   "cell_type": "code",
   "execution_count": null,
   "metadata": {
    "ExecuteTime": {
     "end_time": "2019-12-03T07:50:44.216026Z",
     "start_time": "2019-12-03T07:50:44.204637Z"
    }
   },
   "outputs": [],
   "source": [
    "data = np.random.random((3, 4))\n",
    "data"
   ]
  },
  {
   "cell_type": "code",
   "execution_count": null,
   "metadata": {
    "ExecuteTime": {
     "end_time": "2019-12-03T07:50:44.229057Z",
     "start_time": "2019-12-03T07:50:44.220951Z"
    }
   },
   "outputs": [],
   "source": [
    "np.savetxt(\"./data/saved_sample.csv\", data, delimiter=\",\")"
   ]
  },
  {
   "cell_type": "code",
   "execution_count": null,
   "metadata": {
    "ExecuteTime": {
     "end_time": "2019-12-03T07:50:44.351611Z",
     "start_time": "2019-12-03T07:50:44.233381Z"
    }
   },
   "outputs": [],
   "source": [
    "#파일 조회\n",
    "!ls -al ./data/saved_sample.csv"
   ]
  },
  {
   "cell_type": "code",
   "execution_count": null,
   "metadata": {
    "ExecuteTime": {
     "end_time": "2019-12-03T07:50:44.487045Z",
     "start_time": "2019-12-03T07:50:44.357268Z"
    }
   },
   "outputs": [],
   "source": [
    "#파일 내용 확인\n",
    "!cat ./data/saved_sample.csv"
   ]
  },
  {
   "cell_type": "markdown",
   "metadata": {},
   "source": [
    "---\n",
    "\n",
    "## NumPy 배열연산"
   ]
  },
  {
   "cell_type": "markdown",
   "metadata": {},
   "source": [
    "### 배열 일반 연산\n",
    "\n",
    "NumPy는 기본 연산자를 연산자 재정의하여 배열(행렬) 연산에 대한 직관적으로 표현을 강화하였습니다. 모든 산술 연산 함수는 np 모듈에 포함되어 있습니다."
   ]
  },
  {
   "cell_type": "code",
   "execution_count": null,
   "metadata": {
    "ExecuteTime": {
     "end_time": "2019-12-03T07:50:44.505593Z",
     "start_time": "2019-12-03T07:50:44.492694Z"
    }
   },
   "outputs": [],
   "source": [
    "# arange로 1부터 10 미만의 범위에서 1씩 증가하는 배열 생성\n",
    "# 배열의 shape을 (3, 3)으로 지정\n",
    "a = np.arange(1, 10).reshape(3, 3)\n",
    "a"
   ]
  },
  {
   "cell_type": "code",
   "execution_count": null,
   "metadata": {
    "ExecuteTime": {
     "end_time": "2019-12-03T07:50:44.522542Z",
     "start_time": "2019-12-03T07:50:44.510194Z"
    }
   },
   "outputs": [],
   "source": [
    "# arange로 9부터 0까지 범위에서 1씩 감소하는 배열 생성\n",
    "# 배열의 shape을 (3, 3)으로 지정\n",
    "b = np.arange(9, 0, -1).reshape(3, 3)\n",
    "b"
   ]
  },
  {
   "cell_type": "markdown",
   "metadata": {},
   "source": [
    "> 주의해야할 점 : 기본적으로 배열의 연산에서는 **모두 원소별(pairwise) 연산**입니다."
   ]
  },
  {
   "cell_type": "markdown",
   "metadata": {},
   "source": [
    "####  산술 연산"
   ]
  },
  {
   "cell_type": "markdown",
   "metadata": {},
   "source": [
    "##### 덧셈\n",
    "\n",
    "<img src='./img/연산자.png' width = 40%, >  "
   ]
  },
  {
   "cell_type": "code",
   "execution_count": null,
   "metadata": {
    "ExecuteTime": {
     "end_time": "2019-12-03T07:50:44.535787Z",
     "start_time": "2019-12-03T07:50:44.527419Z"
    }
   },
   "outputs": [],
   "source": [
    "a + b"
   ]
  },
  {
   "cell_type": "markdown",
   "metadata": {},
   "source": [
    "##### 뺄셈"
   ]
  },
  {
   "cell_type": "code",
   "execution_count": null,
   "metadata": {
    "ExecuteTime": {
     "end_time": "2019-12-03T07:50:44.547397Z",
     "start_time": "2019-12-03T07:50:44.543023Z"
    }
   },
   "outputs": [],
   "source": [
    "a - b"
   ]
  },
  {
   "cell_type": "markdown",
   "metadata": {},
   "source": [
    "##### 곱셈\n",
    "\n",
    "주의해야할건 행렬곱(dot product)이 아닌 원소별(pairwise) 곱셈입니다."
   ]
  },
  {
   "cell_type": "code",
   "execution_count": null,
   "metadata": {
    "ExecuteTime": {
     "end_time": "2019-12-03T07:50:44.553099Z",
     "start_time": "2019-12-03T07:50:44.549508Z"
    }
   },
   "outputs": [],
   "source": [
    "a*b"
   ]
  },
  {
   "cell_type": "code",
   "execution_count": null,
   "metadata": {
    "ExecuteTime": {
     "end_time": "2019-12-03T07:50:44.557519Z",
     "start_time": "2019-12-03T07:50:44.554306Z"
    }
   },
   "outputs": [],
   "source": [
    "np.multiply(a, b)"
   ]
  },
  {
   "cell_type": "markdown",
   "metadata": {},
   "source": [
    "##### 나눗셈"
   ]
  },
  {
   "cell_type": "code",
   "execution_count": null,
   "metadata": {
    "ExecuteTime": {
     "end_time": "2019-12-03T07:50:44.561490Z",
     "start_time": "2019-12-03T07:50:44.558765Z"
    }
   },
   "outputs": [],
   "source": [
    "a / b"
   ]
  },
  {
   "cell_type": "code",
   "execution_count": null,
   "metadata": {
    "ExecuteTime": {
     "end_time": "2019-12-03T07:50:44.565250Z",
     "start_time": "2019-12-03T07:50:44.562503Z"
    }
   },
   "outputs": [],
   "source": [
    "np.divide(a, b)"
   ]
  },
  {
   "cell_type": "markdown",
   "metadata": {},
   "source": [
    "##### 지수"
   ]
  },
  {
   "cell_type": "code",
   "execution_count": null,
   "metadata": {
    "ExecuteTime": {
     "end_time": "2019-12-03T07:50:44.568757Z",
     "start_time": "2019-12-03T07:50:44.566169Z"
    }
   },
   "outputs": [],
   "source": [
    "np.exp(a)"
   ]
  },
  {
   "cell_type": "markdown",
   "metadata": {},
   "source": [
    "##### 로그"
   ]
  },
  {
   "cell_type": "code",
   "execution_count": null,
   "metadata": {
    "ExecuteTime": {
     "end_time": "2019-12-03T07:50:44.572131Z",
     "start_time": "2019-12-03T07:50:44.569583Z"
    }
   },
   "outputs": [],
   "source": [
    "np.log(a)"
   ]
  },
  {
   "cell_type": "markdown",
   "metadata": {},
   "source": [
    "##### 제곱근"
   ]
  },
  {
   "cell_type": "code",
   "execution_count": null,
   "metadata": {
    "ExecuteTime": {
     "end_time": "2019-12-03T07:50:44.575499Z",
     "start_time": "2019-12-03T07:50:44.573030Z"
    }
   },
   "outputs": [],
   "source": [
    "np.sqrt(a)"
   ]
  },
  {
   "cell_type": "markdown",
   "metadata": {},
   "source": [
    "##### 삼각함수 sin"
   ]
  },
  {
   "cell_type": "code",
   "execution_count": null,
   "metadata": {
    "ExecuteTime": {
     "end_time": "2019-12-03T07:50:44.578974Z",
     "start_time": "2019-12-03T07:50:44.576408Z"
    }
   },
   "outputs": [],
   "source": [
    "np.sin(a)"
   ]
  },
  {
   "cell_type": "markdown",
   "metadata": {},
   "source": [
    "##### 삼각함수 cos"
   ]
  },
  {
   "cell_type": "code",
   "execution_count": null,
   "metadata": {
    "ExecuteTime": {
     "end_time": "2019-12-03T07:50:44.582333Z",
     "start_time": "2019-12-03T07:50:44.579800Z"
    }
   },
   "outputs": [],
   "source": [
    "np.cos(a)"
   ]
  },
  {
   "cell_type": "markdown",
   "metadata": {},
   "source": [
    "##### 삼각함수 tan"
   ]
  },
  {
   "cell_type": "code",
   "execution_count": null,
   "metadata": {
    "ExecuteTime": {
     "end_time": "2019-12-03T07:50:44.585677Z",
     "start_time": "2019-12-03T07:50:44.583175Z"
    }
   },
   "outputs": [],
   "source": [
    "np.tan(a)"
   ]
  },
  {
   "cell_type": "markdown",
   "metadata": {},
   "source": [
    "##### 내적 (dot product)"
   ]
  },
  {
   "cell_type": "code",
   "execution_count": null,
   "metadata": {
    "ExecuteTime": {
     "end_time": "2019-12-03T07:50:44.589029Z",
     "start_time": "2019-12-03T07:50:44.586512Z"
    }
   },
   "outputs": [],
   "source": [
    "np.dot(a, b)"
   ]
  },
  {
   "cell_type": "markdown",
   "metadata": {},
   "source": [
    "#### 비교 연산"
   ]
  },
  {
   "cell_type": "markdown",
   "metadata": {},
   "source": [
    "##### 배열의 요소별 비교 (Element-wise)\n",
    "\n",
    "> 기본 연산자를 이용하여 요소별 비교를 할 수 있습니다."
   ]
  },
  {
   "cell_type": "code",
   "execution_count": null,
   "metadata": {
    "ExecuteTime": {
     "end_time": "2019-12-03T07:50:44.592236Z",
     "start_time": "2019-12-03T07:50:44.589899Z"
    }
   },
   "outputs": [],
   "source": [
    "a == b"
   ]
  },
  {
   "cell_type": "code",
   "execution_count": null,
   "metadata": {
    "ExecuteTime": {
     "end_time": "2019-12-03T07:50:44.595238Z",
     "start_time": "2019-12-03T07:50:44.593051Z"
    }
   },
   "outputs": [],
   "source": [
    "a > b"
   ]
  },
  {
   "cell_type": "markdown",
   "metadata": {},
   "source": [
    "##### 배열 비교 (Array-wise)\n",
    "\n",
    "> 두 배열 전체는 np.array_equal 함수를 사용하여 비교합니다."
   ]
  },
  {
   "cell_type": "code",
   "execution_count": null,
   "metadata": {
    "ExecuteTime": {
     "end_time": "2019-12-03T07:50:44.598501Z",
     "start_time": "2019-12-03T07:50:44.596155Z"
    }
   },
   "outputs": [],
   "source": [
    "np.array_equal(a, b)"
   ]
  },
  {
   "cell_type": "markdown",
   "metadata": {},
   "source": [
    "#### 집계 연산\n",
    "\n",
    "NumPy의 모든 집계 함수는 집계 함수는 **`AXIS`를 기준으로 계산**됩니다. 집계함수에 AXIS를 지정하지 않으면 axis=None입니다. axis=None, 0, 1은 다음과 같은 기준으로 생각할 수 있습니다."
   ]
  },
  {
   "cell_type": "code",
   "execution_count": null,
   "metadata": {
    "ExecuteTime": {
     "end_time": "2019-12-03T07:50:44.601801Z",
     "start_time": "2019-12-03T07:50:44.599443Z"
    }
   },
   "outputs": [],
   "source": [
    "a"
   ]
  },
  {
   "cell_type": "markdown",
   "metadata": {},
   "source": [
    "##### np.sum\n",
    "\n",
    "> 지정된 axis를 기준으로 요소의 합을 반환합니다."
   ]
  },
  {
   "cell_type": "code",
   "execution_count": null,
   "metadata": {
    "ExecuteTime": {
     "end_time": "2019-12-03T07:50:44.605198Z",
     "start_time": "2019-12-03T07:50:44.602706Z"
    }
   },
   "outputs": [],
   "source": [
    "a.sum()"
   ]
  },
  {
   "cell_type": "code",
   "execution_count": null,
   "metadata": {
    "ExecuteTime": {
     "end_time": "2019-12-03T07:50:44.608653Z",
     "start_time": "2019-12-03T07:50:44.606048Z"
    }
   },
   "outputs": [],
   "source": [
    "np.sum(a)"
   ]
  },
  {
   "cell_type": "code",
   "execution_count": null,
   "metadata": {
    "ExecuteTime": {
     "end_time": "2019-12-03T07:50:44.612202Z",
     "start_time": "2019-12-03T07:50:44.609579Z"
    }
   },
   "outputs": [],
   "source": [
    "np.sum(a, axis=0) # 열 기준"
   ]
  },
  {
   "cell_type": "code",
   "execution_count": null,
   "metadata": {
    "ExecuteTime": {
     "end_time": "2019-12-03T07:50:44.615530Z",
     "start_time": "2019-12-03T07:50:44.613035Z"
    }
   },
   "outputs": [],
   "source": [
    "a.sum(axis=1) # 행 기준"
   ]
  },
  {
   "cell_type": "markdown",
   "metadata": {},
   "source": [
    "##### np.min\n",
    "\n",
    "> 지정된 axis를 기준으로 요소의 최소값을 반환합니다."
   ]
  },
  {
   "cell_type": "code",
   "execution_count": null,
   "metadata": {
    "ExecuteTime": {
     "end_time": "2019-12-03T07:50:44.619526Z",
     "start_time": "2019-12-03T07:50:44.616420Z"
    }
   },
   "outputs": [],
   "source": [
    "a.min()"
   ]
  },
  {
   "cell_type": "code",
   "execution_count": null,
   "metadata": {
    "ExecuteTime": {
     "end_time": "2019-12-03T07:50:44.622887Z",
     "start_time": "2019-12-03T07:50:44.620385Z"
    }
   },
   "outputs": [],
   "source": [
    "np.min(a)"
   ]
  },
  {
   "cell_type": "code",
   "execution_count": null,
   "metadata": {
    "ExecuteTime": {
     "end_time": "2019-12-03T07:50:44.626140Z",
     "start_time": "2019-12-03T07:50:44.623760Z"
    }
   },
   "outputs": [],
   "source": [
    "np.min(a, axis=0)"
   ]
  },
  {
   "cell_type": "code",
   "execution_count": null,
   "metadata": {
    "ExecuteTime": {
     "end_time": "2019-12-03T07:50:44.629526Z",
     "start_time": "2019-12-03T07:50:44.627088Z"
    }
   },
   "outputs": [],
   "source": [
    "a.min(axis=1)"
   ]
  },
  {
   "cell_type": "markdown",
   "metadata": {},
   "source": [
    "##### np.max\n",
    "\n",
    "> 지정된 axis를 기준으로 요소의 최대값을 반환합니다."
   ]
  },
  {
   "cell_type": "code",
   "execution_count": null,
   "metadata": {
    "ExecuteTime": {
     "end_time": "2019-12-03T07:50:44.632795Z",
     "start_time": "2019-12-03T07:50:44.630344Z"
    }
   },
   "outputs": [],
   "source": [
    "a.max()"
   ]
  },
  {
   "cell_type": "code",
   "execution_count": null,
   "metadata": {
    "ExecuteTime": {
     "end_time": "2019-12-03T07:50:44.636150Z",
     "start_time": "2019-12-03T07:50:44.633712Z"
    }
   },
   "outputs": [],
   "source": [
    "np.max(a)"
   ]
  },
  {
   "cell_type": "code",
   "execution_count": null,
   "metadata": {
    "ExecuteTime": {
     "end_time": "2019-12-03T07:50:44.639369Z",
     "start_time": "2019-12-03T07:50:44.636990Z"
    }
   },
   "outputs": [],
   "source": [
    "np.max(a, axis=0)"
   ]
  },
  {
   "cell_type": "code",
   "execution_count": null,
   "metadata": {
    "ExecuteTime": {
     "end_time": "2019-12-03T07:50:44.642753Z",
     "start_time": "2019-12-03T07:50:44.640209Z"
    }
   },
   "outputs": [],
   "source": [
    "a.max(axis=1)"
   ]
  },
  {
   "cell_type": "markdown",
   "metadata": {},
   "source": [
    "##### np.cumsum\n",
    "\n",
    "> 지정된 axis를 기준으로 각 요소의 누적 합의 결과를 반환합니다."
   ]
  },
  {
   "cell_type": "code",
   "execution_count": null,
   "metadata": {},
   "outputs": [],
   "source": [
    "a"
   ]
  },
  {
   "cell_type": "code",
   "execution_count": null,
   "metadata": {
    "ExecuteTime": {
     "end_time": "2019-12-03T07:50:44.645890Z",
     "start_time": "2019-12-03T07:50:44.643600Z"
    }
   },
   "outputs": [],
   "source": [
    "a.cumsum()"
   ]
  },
  {
   "cell_type": "code",
   "execution_count": null,
   "metadata": {
    "ExecuteTime": {
     "end_time": "2019-12-03T07:50:44.649191Z",
     "start_time": "2019-12-03T07:50:44.646679Z"
    }
   },
   "outputs": [],
   "source": [
    "np.cumsum(a)"
   ]
  },
  {
   "cell_type": "code",
   "execution_count": null,
   "metadata": {
    "ExecuteTime": {
     "end_time": "2019-12-03T07:50:44.652818Z",
     "start_time": "2019-12-03T07:50:44.650031Z"
    }
   },
   "outputs": [],
   "source": [
    "np.cumsum(a, axis=0)"
   ]
  },
  {
   "cell_type": "code",
   "execution_count": null,
   "metadata": {
    "ExecuteTime": {
     "end_time": "2019-12-03T07:50:44.656409Z",
     "start_time": "2019-12-03T07:50:44.653759Z"
    }
   },
   "outputs": [],
   "source": [
    "a.cumsum(axis=1)"
   ]
  },
  {
   "cell_type": "markdown",
   "metadata": {},
   "source": [
    "##### np.mean\n",
    "\n",
    "> 지정된 axis를 기준으로 요소의 평균을 반환합니다."
   ]
  },
  {
   "cell_type": "code",
   "execution_count": null,
   "metadata": {
    "ExecuteTime": {
     "end_time": "2019-12-03T07:50:44.659685Z",
     "start_time": "2019-12-03T07:50:44.657245Z"
    }
   },
   "outputs": [],
   "source": [
    "a.mean()"
   ]
  },
  {
   "cell_type": "code",
   "execution_count": null,
   "metadata": {
    "ExecuteTime": {
     "end_time": "2019-12-03T07:50:44.662938Z",
     "start_time": "2019-12-03T07:50:44.660548Z"
    }
   },
   "outputs": [],
   "source": [
    "np.mean(a)"
   ]
  },
  {
   "cell_type": "code",
   "execution_count": null,
   "metadata": {
    "ExecuteTime": {
     "end_time": "2019-12-03T07:50:44.666381Z",
     "start_time": "2019-12-03T07:50:44.663878Z"
    }
   },
   "outputs": [],
   "source": [
    "np.mean(a, axis=0)"
   ]
  },
  {
   "cell_type": "code",
   "execution_count": null,
   "metadata": {
    "ExecuteTime": {
     "end_time": "2019-12-03T07:50:44.670243Z",
     "start_time": "2019-12-03T07:50:44.667226Z"
    }
   },
   "outputs": [],
   "source": [
    "a.mean(axis=1)"
   ]
  },
  {
   "cell_type": "markdown",
   "metadata": {},
   "source": [
    "##### np.median\n",
    "\n",
    "> 지정된 axis를 기준으로 요소의 중앙값을 반환합니다."
   ]
  },
  {
   "cell_type": "code",
   "execution_count": null,
   "metadata": {
    "ExecuteTime": {
     "end_time": "2019-12-03T07:50:44.673920Z",
     "start_time": "2019-12-03T07:50:44.671314Z"
    }
   },
   "outputs": [],
   "source": [
    "np.median(a)"
   ]
  },
  {
   "cell_type": "markdown",
   "metadata": {},
   "source": [
    "##### np.std\n",
    "\n",
    "> 지정된 axis를 기준으로 요소의 표준 편차를 계산합니다."
   ]
  },
  {
   "cell_type": "code",
   "execution_count": null,
   "metadata": {
    "ExecuteTime": {
     "end_time": "2019-12-03T07:50:44.700363Z",
     "start_time": "2019-12-03T07:50:44.697822Z"
    }
   },
   "outputs": [],
   "source": [
    "a.std()"
   ]
  },
  {
   "cell_type": "code",
   "execution_count": null,
   "metadata": {
    "ExecuteTime": {
     "end_time": "2019-12-03T07:50:44.704840Z",
     "start_time": "2019-12-03T07:50:44.701217Z"
    }
   },
   "outputs": [],
   "source": [
    "np.std(a)"
   ]
  },
  {
   "cell_type": "code",
   "execution_count": null,
   "metadata": {
    "ExecuteTime": {
     "end_time": "2019-12-03T07:50:44.708542Z",
     "start_time": "2019-12-03T07:50:44.705715Z"
    }
   },
   "outputs": [],
   "source": [
    "np.std(a, axis=0)"
   ]
  },
  {
   "cell_type": "code",
   "execution_count": null,
   "metadata": {
    "ExecuteTime": {
     "end_time": "2019-12-03T07:50:44.711834Z",
     "start_time": "2019-12-03T07:50:44.709345Z"
    }
   },
   "outputs": [],
   "source": [
    "a.std(axis=1)"
   ]
  },
  {
   "cell_type": "markdown",
   "metadata": {},
   "source": [
    "### 브로드캐스팅\n",
    "\n",
    "Shape이 같은 두 배열에 대한 이항 연산은 배열의 요소별로 수행됩니다. **두 배열 간의 Shape이 다를 경우** 두 배열 간의 형상을 맞추는 아래와 같은 Broadcasting 과정을 거칩니다.\n",
    "\n",
    "<img src='./img/numpy-broadcasting.png' width=70%, Fig><br>\n",
    "Ref : https://mathematica.stackexchange.com/questions/99171/how-to-implement-the-general-array-broadcasting-method-from-numpy"
   ]
  },
  {
   "cell_type": "markdown",
   "metadata": {},
   "source": [
    "#### Shape이 같은 배열의 이항 연산\n",
    "Shape이 같은 두 배열을 이항 연살 할 경우 위치가 같은 요소 단위로 수행됩니다."
   ]
  },
  {
   "cell_type": "code",
   "execution_count": null,
   "metadata": {
    "ExecuteTime": {
     "end_time": "2019-12-03T07:50:44.715288Z",
     "start_time": "2019-12-03T07:50:44.712609Z"
    }
   },
   "outputs": [],
   "source": [
    "a = np.arange(1, 25).reshape(4, 6)\n",
    "a"
   ]
  },
  {
   "cell_type": "code",
   "execution_count": null,
   "metadata": {
    "ExecuteTime": {
     "end_time": "2019-12-03T07:50:47.342605Z",
     "start_time": "2019-12-03T07:50:47.336913Z"
    }
   },
   "outputs": [],
   "source": [
    "b = np.arange(25, 49).reshape(4, 6)\n",
    "b"
   ]
  },
  {
   "cell_type": "code",
   "execution_count": null,
   "metadata": {
    "ExecuteTime": {
     "end_time": "2019-12-03T07:51:30.377534Z",
     "start_time": "2019-12-03T07:51:30.372424Z"
    }
   },
   "outputs": [],
   "source": [
    "a + b"
   ]
  },
  {
   "cell_type": "markdown",
   "metadata": {},
   "source": [
    "#### Shape이 다른 두 배열의 연산\n",
    "- Shape이 다른 두 배열 사이의 이항 연산에서 브로드케스팅 발생\n",
    "- 두 배열을 같은 Shape으로 만든 후 연산을 수행"
   ]
  },
  {
   "cell_type": "markdown",
   "metadata": {},
   "source": [
    "##### 배열과 스칼라\n",
    "배열과 스칼라 사이의 이항 연산 시 스칼라를 배열로 변형합니다."
   ]
  },
  {
   "cell_type": "code",
   "execution_count": null,
   "metadata": {
    "ExecuteTime": {
     "end_time": "2019-12-03T07:56:11.503431Z",
     "start_time": "2019-12-03T07:56:11.497220Z"
    }
   },
   "outputs": [],
   "source": [
    "a = np.arange(1, 25).reshape(4, 6)\n",
    "a"
   ]
  },
  {
   "cell_type": "code",
   "execution_count": null,
   "metadata": {
    "ExecuteTime": {
     "end_time": "2019-12-03T07:56:15.131272Z",
     "start_time": "2019-12-03T07:56:15.125395Z"
    }
   },
   "outputs": [],
   "source": [
    "a + 100"
   ]
  },
  {
   "cell_type": "markdown",
   "metadata": {},
   "source": [
    "##### Shape이 다른 배열들의 연산"
   ]
  },
  {
   "cell_type": "code",
   "execution_count": null,
   "metadata": {
    "ExecuteTime": {
     "end_time": "2019-12-03T07:57:09.712135Z",
     "start_time": "2019-12-03T07:57:09.706457Z"
    }
   },
   "outputs": [],
   "source": [
    "a = np.arange(5).reshape((1, 5))\n",
    "a"
   ]
  },
  {
   "cell_type": "code",
   "execution_count": null,
   "metadata": {
    "ExecuteTime": {
     "end_time": "2019-12-03T07:57:09.850395Z",
     "start_time": "2019-12-03T07:57:09.839871Z"
    }
   },
   "outputs": [],
   "source": [
    "b = np.arange(5).reshape((5, 1))\n",
    "b"
   ]
  },
  {
   "cell_type": "code",
   "execution_count": null,
   "metadata": {
    "ExecuteTime": {
     "end_time": "2019-12-03T07:57:18.606236Z",
     "start_time": "2019-12-03T07:57:18.600824Z"
    }
   },
   "outputs": [],
   "source": [
    "a+b"
   ]
  },
  {
   "cell_type": "markdown",
   "metadata": {},
   "source": [
    "### 백터연산\n",
    "\n",
    "NumPy는 벡터 연산을 지원합니다. NumPy의 집합 연산에는 Vectorization이 적용되어 있습니다. 배열 처리에 대한 벡터 연산을 적용할 경우 처리 속도가 100배 이상 향상됩니다. 머신러닝에서 선형대수 연산을 처리할 때 매우 높은 효과가 있을 수 있습니다.\n",
    "\n",
    "아래 테스트에서 천만 개의 요소를 갖는 배열의 요소를 합산하는 코드를 반복문으로 처리하면 2.5초가 소요됩니다. 이 연산을 벡터 연산으로 처리하면 10밀리세컨드로 단축됩니다."
   ]
  },
  {
   "cell_type": "code",
   "execution_count": null,
   "metadata": {
    "ExecuteTime": {
     "end_time": "2019-12-03T07:58:30.900341Z",
     "start_time": "2019-12-03T07:58:30.886725Z"
    }
   },
   "outputs": [],
   "source": [
    "# sample array\n",
    "a = np.arange(10000000)"
   ]
  },
  {
   "cell_type": "code",
   "execution_count": null,
   "metadata": {
    "ExecuteTime": {
     "end_time": "2019-12-03T07:58:37.440400Z",
     "start_time": "2019-12-03T07:58:37.435923Z"
    }
   },
   "outputs": [],
   "source": [
    "result = 0"
   ]
  },
  {
   "cell_type": "markdown",
   "metadata": {},
   "source": [
    "#### loop 문을 이용한 연산"
   ]
  },
  {
   "cell_type": "code",
   "execution_count": null,
   "metadata": {
    "ExecuteTime": {
     "end_time": "2019-12-03T07:58:53.835079Z",
     "start_time": "2019-12-03T07:58:51.941454Z"
    }
   },
   "outputs": [],
   "source": [
    "%%time\n",
    "for v in a:\n",
    "    result += v\n",
    "result"
   ]
  },
  {
   "cell_type": "markdown",
   "metadata": {},
   "source": [
    "#### NumPy의 벡터연산"
   ]
  },
  {
   "cell_type": "code",
   "execution_count": null,
   "metadata": {
    "ExecuteTime": {
     "end_time": "2019-12-03T07:59:10.642994Z",
     "start_time": "2019-12-03T07:59:10.631271Z"
    }
   },
   "outputs": [],
   "source": [
    "%%time\n",
    "result = np.sum(a)\n",
    "result"
   ]
  },
  {
   "cell_type": "markdown",
   "metadata": {},
   "source": [
    "---\n",
    "\n",
    "## Reference"
   ]
  },
  {
   "cell_type": "markdown",
   "metadata": {},
   "source": [
    "- https://www.intel.com\n",
    "- https://numpy.org/\n",
    "- https://github.com/rougier/numpy-tutorial\n",
    "- https://github.com/rougier/numpy-100\n",
    "- http://aikorea.org/cs231n/python-numpy-tutorial/\n",
    "- http://riseshia.github.io/2017/01/30/numpy-tutorial-with-code.html\n",
    "- https://datascienceschool.net/view-notebook/24e43f9df9ec4abab15e32e68e982cc1/\n",
    "- http://taewan.kim/post/numpy_cheat_sheet/"
   ]
  }
 ],
 "metadata": {
  "kernelspec": {
   "display_name": "Python 3",
   "language": "python",
   "name": "python3"
  },
  "language_info": {
   "codemirror_mode": {
    "name": "ipython",
    "version": 3
   },
   "file_extension": ".py",
   "mimetype": "text/x-python",
   "name": "python",
   "nbconvert_exporter": "python",
   "pygments_lexer": "ipython3",
   "version": "3.5.2"
  },
  "toc": {
   "base_numbering": 1,
   "nav_menu": {},
   "number_sections": true,
   "sideBar": true,
   "skip_h1_title": true,
   "title_cell": "강의목차",
   "title_sidebar": "Contents",
   "toc_cell": true,
   "toc_position": {
    "height": "calc(100% - 180px)",
    "left": "10px",
    "top": "150px",
    "width": "335.797px"
   },
   "toc_section_display": true,
   "toc_window_display": true
  }
 },
 "nbformat": 4,
 "nbformat_minor": 2
}
