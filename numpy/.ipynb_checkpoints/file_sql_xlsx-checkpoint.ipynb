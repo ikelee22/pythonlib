{
 "cells": [
  {
   "cell_type": "markdown",
   "metadata": {},
   "source": [
    "## file 읽고 쓰기 <br/> \n",
    "## r(read), ( '     '), w(write), '   ' a(append) "
   ]
  },
  {
   "cell_type": "code",
   "execution_count": 1,
   "metadata": {},
   "outputs": [
    {
     "name": "stdout",
     "output_type": "stream",
     "text": [
      "tqdm\n",
      "numpy\n",
      "pandas\n",
      "Keras==2.3.1\n",
      "tensorflow==1.14.0\n",
      "graphviz\n",
      "Pillow==6.2.0\n",
      "pydot==1.4.1\n",
      "scikit-learn==0.21.3\n",
      "scipy==1.3.1\n",
      "seaborn==0.9.0\n",
      "selenium==3.141.0\n",
      "test-generator==0.1.1\n",
      "defusedxml==0.5.0\n",
      "networkx==2.3\n",
      "google-images-download==2.8.0\n",
      "jupyter\n",
      "opencv-python\n",
      "\n"
     ]
    }
   ],
   "source": [
    "# 문서 읽기 입니다. \n",
    "with open(\"/home/intel/ttt/requirements.txt\", \"r\") as f:\n",
    "    print(f.read())"
   ]
  },
  {
   "cell_type": "code",
   "execution_count": 3,
   "metadata": {},
   "outputs": [
    {
     "name": "stdout",
     "output_type": "stream",
     "text": [
      "tqdm\n",
      "numpy\n",
      "pandas\n",
      "Keras==2.3.1\n",
      "tensorflow==1.14.0\n",
      "graphviz\n",
      "Pillow==6.2.0\n",
      "pydot==1.4.1\n",
      "scikit-learn==0.21.3\n",
      "scipy==1.3.1\n",
      "seaborn==0.9.0\n",
      "selenium==3.141.0\n",
      "test-generator==0.1.1\n",
      "defusedxml==0.5.0\n",
      "networkx==2.3\n",
      "google-images-download==2.8.0\n",
      "jupyter\n",
      "opencv-python\n",
      "\n"
     ]
    }
   ],
   "source": [
    "# 또나른 문서 읽기 입니다. \n",
    "f = open(\"/home/intel/ttt/requirements.txt\", \"r\")\n",
    "print(f.read())\n",
    "f.close()"
   ]
  },
  {
   "cell_type": "code",
   "execution_count": 4,
   "metadata": {},
   "outputs": [],
   "source": [
    "# 문서 작성하기 입니다 \n",
    "with open(\"/home/intel/ttt/test.txt\", \"a\") as f:\n",
    "    f.write(\"python test. \\n\")\n",
    "    f.write(\"python test2. \\n\")  \n",
    "    f.write(\"python test3. \\n\")\n",
    "    "
   ]
  },
  {
   "cell_type": "code",
   "execution_count": 6,
   "metadata": {},
   "outputs": [
    {
     "name": "stdout",
     "output_type": "stream",
     "text": [
      "python test. \n",
      "python test2. \n",
      "python test3. \n",
      "\n"
     ]
    }
   ],
   "source": [
    "with open(\"/home/intel/ttt/test.txt\", \"r\") as f:\n",
    "    print(f.read())\n"
   ]
  },
  {
   "cell_type": "markdown",
   "metadata": {},
   "source": [
    "## SQLib 불러오기 \n",
    "conn = 작업 위치/데이터 베이스 연결자  \n",
    "\n",
    "c = 쿼리문을 다루기위한 연결자\n",
    "sqlite3 는 python 이 갖고 있는 내장 함수 입니다."
   ]
  },
  {
   "cell_type": "code",
   "execution_count": 25,
   "metadata": {},
   "outputs": [
    {
     "name": "stdout",
     "output_type": "stream",
     "text": [
      "메뉴       가격\n",
      "=============\n",
      "hambuger 5000\n",
      "cock 3000\n",
      "bibim 9000\n"
     ]
    }
   ],
   "source": [
    "import sqlite3 as s\n",
    "conn = s.connect(\"/home/intel/ttt/test2\")\n",
    "c = conn.cursor()\n",
    "\n",
    "c.execute('drop table if exists test2')\n",
    "c.execute('create table test2( menu char(20), price int)')\n",
    "c.execute('insert into test2 values(\"hambuger\", 5000)')\n",
    "c.execute('insert into test2 values(\"cock\", 3000)')\n",
    "c.execute('insert into test2 values(\"bibim\", 9000)')\n",
    "conn.commit()\n",
    "c.execute('select * from test2')\n",
    "k=c.fetchall()\n",
    "\n",
    "print(\"메뉴       가격\")\n",
    "print(\"=============\")\n",
    "for row in k:\n",
    "    print(\"{} {}\". format(row[0], row[1]))\n",
    "c.close()\n",
    "conn.close()       "
   ]
  },
  {
   "cell_type": "code",
   "execution_count": 31,
   "metadata": {},
   "outputs": [
    {
     "name": "stdout",
     "output_type": "stream",
     "text": [
      "매뉴 :ff\n",
      "가격 :56\n"
     ]
    },
    {
     "ename": "OperationalError",
     "evalue": "table test2 has no column named 갸격",
     "output_type": "error",
     "traceback": [
      "\u001b[0;31m---------------------------------------------------------------------------\u001b[0m",
      "\u001b[0;31mOperationalError\u001b[0m                          Traceback (most recent call last)",
      "\u001b[0;32m<ipython-input-31-6a7e60de4a66>\u001b[0m in \u001b[0;36m<module>\u001b[0;34m\u001b[0m\n\u001b[1;32m     12\u001b[0m \u001b[0m가격\u001b[0m \u001b[0;34m=\u001b[0m \u001b[0minput\u001b[0m\u001b[0;34m(\u001b[0m\u001b[0;34m\"가격 :\"\u001b[0m\u001b[0;34m)\u001b[0m\u001b[0;34m\u001b[0m\u001b[0m\n\u001b[1;32m     13\u001b[0m \u001b[0;34m\u001b[0m\u001b[0m\n\u001b[0;32m---> 14\u001b[0;31m \u001b[0mc\u001b[0m\u001b[0;34m.\u001b[0m\u001b[0mexecute\u001b[0m\u001b[0;34m(\u001b[0m\u001b[0;34m\"insert into test2(메뉴, 갸격) values(?,?)\"\u001b[0m\u001b[0;34m,\u001b[0m \u001b[0;34m(\u001b[0m\u001b[0m메뉴\u001b[0m\u001b[0;34m,\u001b[0m \u001b[0m가격\u001b[0m\u001b[0;34m)\u001b[0m\u001b[0;34m)\u001b[0m\u001b[0;34m\u001b[0m\u001b[0m\n\u001b[0m\u001b[1;32m     15\u001b[0m \u001b[0;34m\u001b[0m\u001b[0m\n\u001b[1;32m     16\u001b[0m \u001b[0mconn\u001b[0m\u001b[0;34m.\u001b[0m\u001b[0mcommit\u001b[0m\u001b[0;34m(\u001b[0m\u001b[0;34m)\u001b[0m\u001b[0;34m\u001b[0m\u001b[0m\n",
      "\u001b[0;31mOperationalError\u001b[0m: table test2 has no column named 갸격"
     ]
    }
   ],
   "source": [
    "import sqlite3 as s\n",
    "conn = s.connect(\"/home/intel/ttt/test2\")\n",
    "c = conn.cursor()\n",
    "\n",
    "c.execute('drop table if exists test2')\n",
    "c.execute('create table test2( 메뉴 char(20), 가격 int)')\n",
    "c.execute('insert into test2 values(\"hambuger\", 5000)')\n",
    "c.execute('insert into test2 values(\"cock\", 3000)')\n",
    "c.execute('insert into test2 values(\"bibim\", 9000)')\n",
    "\n",
    "메뉴 = input(\"매뉴 :\")\n",
    "가격 = input(\"가격 :\")\n",
    "\n",
    "c.execute(\"insert into test2(메뉴, 갸격) values(?,?)\", (메뉴, 가격))\n",
    "\n",
    "conn.commit()\n",
    "c.execute('select * from test2')\n",
    "k=c.fetchall()\n",
    "\n",
    "print(\"메뉴       가격\")\n",
    "print(\"=============\")\n",
    "for row in k:\n",
    "    print(\"{} {}\". format(row[0], row[1]))\n",
    "c.close()\n",
    "conn.close()       "
   ]
  },
  {
   "cell_type": "code",
   "execution_count": 32,
   "metadata": {},
   "outputs": [
    {
     "name": "stdout",
     "output_type": "stream",
     "text": [
      "absl-py==0.8.1\n",
      "astor==0.8.1\n",
      "attrs==19.3.0\n",
      "backcall==0.1.0\n",
      "bleach==3.1.0\n",
      "cycler==0.10.0\n",
      "decorator==4.4.1\n",
      "defusedxml==0.5.0\n",
      "entrypoints==0.3\n",
      "gast==0.3.2\n",
      "google-images-download==2.8.0\n",
      "google-pasta==0.1.8\n",
      "graphviz==0.13\n",
      "grpcio==1.25.0\n",
      "h5py==2.10.0\n",
      "importlib-metadata==1.3.0\n",
      "ipykernel==5.1.3\n",
      "ipython==7.9.0\n",
      "ipython-genutils==0.2.0\n",
      "ipywidgets==7.5.1\n",
      "jedi==0.15.1\n",
      "Jinja2==2.10.3\n",
      "joblib==0.14.1\n",
      "jsonschema==3.2.0\n",
      "jupyter==1.0.0\n",
      "jupyter-client==5.3.4\n",
      "jupyter-console==6.0.0\n",
      "jupyter-core==4.6.1\n",
      "Keras==2.3.1\n",
      "Keras-Applications==1.0.8\n",
      "Keras-Preprocessing==1.1.0\n",
      "kiwisolver==1.1.0\n",
      "Markdown==3.1.1\n",
      "MarkupSafe==1.1.1\n",
      "matplotlib==3.0.3\n",
      "mistune==0.8.4\n",
      "more-itertools==8.0.2\n",
      "nbconvert==5.6.1\n",
      "nbformat==4.4.0\n",
      "networkx==2.3\n",
      "notebook==6.0.2\n",
      "numpy==1.17.4\n",
      "opencv-python==4.1.2.30\n",
      "pandas==0.24.2\n",
      "pandocfilters==1.4.2\n",
      "parso==0.5.2\n",
      "pexpect==4.7.0\n",
      "pickleshare==0.7.5\n",
      "Pillow==6.2.0\n",
      "pkg-resources==0.0.0\n",
      "prometheus-client==0.7.1\n",
      "prompt-toolkit==2.0.10\n",
      "protobuf==3.11.1\n",
      "ptyprocess==0.6.0\n",
      "pydot==1.4.1\n",
      "pygame==1.9.6\n",
      "Pygments==2.5.2\n",
      "pyparsing==2.4.5\n",
      "pyrsistent==0.15.6\n",
      "python-dateutil==2.8.1\n",
      "pytz==2019.3\n",
      "PyYAML==5.2\n",
      "pyzmq==18.1.1\n",
      "qtconsole==4.6.0\n",
      "scikit-learn==0.21.3\n",
      "scipy==1.3.1\n",
      "seaborn==0.9.0\n",
      "selenium==3.141.0\n",
      "Send2Trash==1.5.0\n",
      "six==1.13.0\n",
      "tensorboard==1.14.0\n",
      "tensorflow==1.14.0\n",
      "tensorflow-estimator==1.14.0\n",
      "termcolor==1.1.0\n",
      "terminado==0.8.3\n",
      "test-generator==0.1.1\n",
      "testpath==0.4.4\n",
      "tornado==6.0.3\n",
      "tqdm==4.40.2\n",
      "traitlets==4.3.3\n",
      "urllib3==1.25.7\n",
      "wcwidth==0.1.7\n",
      "webencodings==0.5.1\n",
      "Werkzeug==0.16.0\n",
      "widgetsnbextension==3.5.1\n",
      "wrapt==1.11.2\n",
      "zipp==0.6.0\n",
      "Note: you may need to restart the kernel to use updated packages.\n"
     ]
    }
   ],
   "source": [
    "pip freeze"
   ]
  },
  {
   "cell_type": "code",
   "execution_count": 38,
   "metadata": {},
   "outputs": [
    {
     "name": "stdout",
     "output_type": "stream",
     "text": [
      "Collecting pip\n",
      "\u001b[?25l  Downloading https://files.pythonhosted.org/packages/54/0c/d01aa759fdc501a58f431eb594a17495f15b88da142ce14b5845662c13f3/pip-20.0.2-py2.py3-none-any.whl (1.4MB)\n",
      "\u001b[K     |████████████████████████████████| 1.4MB 257kB/s eta 0:00:01\n",
      "\u001b[?25hInstalling collected packages: pip\n",
      "  Found existing installation: pip 19.3.1\n",
      "    Uninstalling pip-19.3.1:\n",
      "      Successfully uninstalled pip-19.3.1\n",
      "Successfully installed pip-20.0.2\n"
     ]
    }
   ],
   "source": [
    "! pip install --upgrade pip\n"
   ]
  },
  {
   "cell_type": "code",
   "execution_count": 39,
   "metadata": {},
   "outputs": [
    {
     "name": "stdout",
     "output_type": "stream",
     "text": [
      "Requirement already satisfied: openpyxl in /home/intel/imobilenet/myvenv/lib/python3.5/site-packages (2.6.4)\r\n",
      "Requirement already satisfied: jdcal in /home/intel/imobilenet/myvenv/lib/python3.5/site-packages (from openpyxl) (1.4.1)\r\n",
      "Requirement already satisfied: et-xmlfile in /home/intel/imobilenet/myvenv/lib/python3.5/site-packages (from openpyxl) (1.0.1)\r\n"
     ]
    }
   ],
   "source": [
    "! pip install openpyxl"
   ]
  },
  {
   "cell_type": "code",
   "execution_count": 40,
   "metadata": {},
   "outputs": [
    {
     "ename": "NameError",
     "evalue": "name 'openpyxl' is not defined",
     "output_type": "error",
     "traceback": [
      "\u001b[0;31m---------------------------------------------------------------------------\u001b[0m",
      "\u001b[0;31mNameError\u001b[0m                                 Traceback (most recent call last)",
      "\u001b[0;32m<ipython-input-40-fc6d92302a06>\u001b[0m in \u001b[0;36m<module>\u001b[0;34m\u001b[0m\n\u001b[0;32m----> 1\u001b[0;31m \u001b[0mexf\u001b[0m \u001b[0;34m=\u001b[0m \u001b[0mopenpyxl\u001b[0m\u001b[0;34m.\u001b[0m\u001b[0mload_workbook\u001b[0m\u001b[0;34m(\u001b[0m\u001b[0;34m\"/home/ttt/ex6.xlsx\"\u001b[0m\u001b[0;34m)\u001b[0m\u001b[0;34m\u001b[0m\u001b[0m\n\u001b[0m\u001b[1;32m      2\u001b[0m \u001b[0maws\u001b[0m \u001b[0;34m=\u001b[0m \u001b[0mexf\u001b[0m\u001b[0;34m.\u001b[0m\u001b[0mactive\u001b[0m\u001b[0;34m\u001b[0m\u001b[0m\n\u001b[1;32m      3\u001b[0m \u001b[0mprint\u001b[0m\u001b[0;34m(\u001b[0m\u001b[0mexf\u001b[0m\u001b[0;34m)\u001b[0m\u001b[0;34m\u001b[0m\u001b[0m\n",
      "\u001b[0;31mNameError\u001b[0m: name 'openpyxl' is not defined"
     ]
    }
   ],
   "source": [
    "exf = openpyxl.load_workbook(\"/home/ttt/ex6.xlsx\")\n",
    "aws = exf.active\n",
    "print(exf)"
   ]
  },
  {
   "cell_type": "code",
   "execution_count": null,
   "metadata": {},
   "outputs": [],
   "source": []
  }
 ],
 "metadata": {
  "kernelspec": {
   "display_name": "Python 3",
   "language": "python",
   "name": "python3"
  },
  "language_info": {
   "codemirror_mode": {
    "name": "ipython",
    "version": 3
   },
   "file_extension": ".py",
   "mimetype": "text/x-python",
   "name": "python",
   "nbconvert_exporter": "python",
   "pygments_lexer": "ipython3",
   "version": "3.5.2"
  }
 },
 "nbformat": 4,
 "nbformat_minor": 2
}
