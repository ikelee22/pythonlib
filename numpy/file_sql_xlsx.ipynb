{
 "cells": [
  {
   "cell_type": "markdown",
   "metadata": {},
   "source": [
    "## file 읽고 쓰기 <br/> \n",
    "## r(read), ( '     '), w(write), '   ' a(append) "
   ]
  },
  {
   "cell_type": "code",
   "execution_count": 1,
   "metadata": {},
   "outputs": [
    {
     "name": "stdout",
     "output_type": "stream",
     "text": [
      "tqdm\n",
      "numpy\n",
      "pandas\n",
      "Keras==2.3.1\n",
      "tensorflow==1.14.0\n",
      "graphviz\n",
      "Pillow==6.2.0\n",
      "pydot==1.4.1\n",
      "scikit-learn==0.21.3\n",
      "scipy==1.3.1\n",
      "seaborn==0.9.0\n",
      "selenium==3.141.0\n",
      "test-generator==0.1.1\n",
      "defusedxml==0.5.0\n",
      "networkx==2.3\n",
      "google-images-download==2.8.0\n",
      "jupyter\n",
      "opencv-python\n",
      "\n"
     ]
    }
   ],
   "source": [
    "# 문서 읽기 입니다. \n",
    "with open(\"/home/intel/ttt/requirements.txt\", \"r\") as f:\n",
    "    print(f.read())"
   ]
  },
  {
   "cell_type": "code",
   "execution_count": 2,
   "metadata": {},
   "outputs": [
    {
     "name": "stdout",
     "output_type": "stream",
     "text": [
      "tqdm\n",
      "numpy\n",
      "pandas\n",
      "Keras==2.3.1\n",
      "tensorflow==1.14.0\n",
      "graphviz\n",
      "Pillow==6.2.0\n",
      "pydot==1.4.1\n",
      "scikit-learn==0.21.3\n",
      "scipy==1.3.1\n",
      "seaborn==0.9.0\n",
      "selenium==3.141.0\n",
      "test-generator==0.1.1\n",
      "defusedxml==0.5.0\n",
      "networkx==2.3\n",
      "google-images-download==2.8.0\n",
      "jupyter\n",
      "opencv-python\n",
      "\n"
     ]
    }
   ],
   "source": [
    "# 또나른 문서 읽기 입니다. \n",
    "f = open(\"/home/intel/ttt/requirements.txt\", \"r\")\n",
    "print(f.read())\n",
    "f.close()"
   ]
  },
  {
   "cell_type": "code",
   "execution_count": 3,
   "metadata": {},
   "outputs": [],
   "source": [
    "# 문서 작성하기 입니다 \n",
    "with open(\"/home/intel/ttt/test.txt\", \"a\") as f:\n",
    "    f.write(\"python test. \\n\")\n",
    "    f.write(\"python test2. \\n\")  \n",
    "    f.write(\"python test3. \\n\")\n",
    "    "
   ]
  },
  {
   "cell_type": "code",
   "execution_count": 4,
   "metadata": {},
   "outputs": [
    {
     "name": "stdout",
     "output_type": "stream",
     "text": [
      "python test. \n",
      "python test2. \n",
      "python test3. \n",
      "python test. \n",
      "python test2. \n",
      "python test3. \n",
      "python test. \n",
      "python test2. \n",
      "python test3. \n",
      "python test. \n",
      "python test2. \n",
      "python test3. \n",
      "\n"
     ]
    }
   ],
   "source": [
    "with open(\"/home/intel/ttt/test.txt\", \"r\") as f:\n",
    "    print(f.read())\n"
   ]
  },
  {
   "cell_type": "markdown",
   "metadata": {},
   "source": [
    "## SQLib 불러오기 \n",
    "conn = 작업 위치/데이터 베이스 연결자  \n",
    "\n",
    "c = 쿼리문을 다루기위한 연결자\n",
    "sqlite3 는 python 이 갖고 있는 내장 함수 입니다."
   ]
  },
  {
   "cell_type": "code",
   "execution_count": 5,
   "metadata": {},
   "outputs": [
    {
     "ename": "OperationalError",
     "evalue": "database is locked",
     "output_type": "error",
     "traceback": [
      "\u001b[0;31m---------------------------------------------------------------------------\u001b[0m",
      "\u001b[0;31mOperationalError\u001b[0m                          Traceback (most recent call last)",
      "\u001b[0;32m<ipython-input-5-9c267d3db0a5>\u001b[0m in \u001b[0;36m<module>\u001b[0;34m\u001b[0m\n\u001b[1;32m      3\u001b[0m \u001b[0mc\u001b[0m \u001b[0;34m=\u001b[0m \u001b[0mconn\u001b[0m\u001b[0;34m.\u001b[0m\u001b[0mcursor\u001b[0m\u001b[0;34m(\u001b[0m\u001b[0;34m)\u001b[0m\u001b[0;34m\u001b[0m\u001b[0m\n\u001b[1;32m      4\u001b[0m \u001b[0;34m\u001b[0m\u001b[0m\n\u001b[0;32m----> 5\u001b[0;31m \u001b[0mc\u001b[0m\u001b[0;34m.\u001b[0m\u001b[0mexecute\u001b[0m\u001b[0;34m(\u001b[0m\u001b[0;34m'drop table if exists test2'\u001b[0m\u001b[0;34m)\u001b[0m\u001b[0;34m\u001b[0m\u001b[0m\n\u001b[0m\u001b[1;32m      6\u001b[0m \u001b[0mc\u001b[0m\u001b[0;34m.\u001b[0m\u001b[0mexecute\u001b[0m\u001b[0;34m(\u001b[0m\u001b[0;34m'create table test2( menu char(20), price int)'\u001b[0m\u001b[0;34m)\u001b[0m\u001b[0;34m\u001b[0m\u001b[0m\n\u001b[1;32m      7\u001b[0m \u001b[0mc\u001b[0m\u001b[0;34m.\u001b[0m\u001b[0mexecute\u001b[0m\u001b[0;34m(\u001b[0m\u001b[0;34m'insert into test2 values(\"hambuger\", 5000)'\u001b[0m\u001b[0;34m)\u001b[0m\u001b[0;34m\u001b[0m\u001b[0m\n",
      "\u001b[0;31mOperationalError\u001b[0m: database is locked"
     ]
    }
   ],
   "source": [
    "import sqlite3 as s\n",
    "conn = s.connect(\"/home/intel/ttt/test2\")\n",
    "c = conn.cursor()\n",
    "\n",
    "c.execute('drop table if exists test2')\n",
    "c.execute('create table test2( menu char(20), price int)')\n",
    "c.execute('insert into test2 values(\"hambuger\", 5000)')\n",
    "c.execute('insert into test2 values(\"cock\", 3000)')\n",
    "c.execute('insert into test2 values(\"bibim\", 9000)')\n",
    "conn.commit()\n",
    "c.execute('select * from test2')\n",
    "k=c.fetchall()\n",
    "\n",
    "print(\"메뉴       가격\")\n",
    "print(\"=============\")\n",
    "for row in k:\n",
    "    print(\"{} {}\". format(row[0], row[1]))\n",
    "c.close()\n",
    "conn.close()       "
   ]
  },
  {
   "cell_type": "code",
   "execution_count": null,
   "metadata": {},
   "outputs": [],
   "source": [
    "pip freeze"
   ]
  },
  {
   "cell_type": "code",
   "execution_count": null,
   "metadata": {},
   "outputs": [],
   "source": [
    "! pip install --upgrade pip\n"
   ]
  },
  {
   "cell_type": "code",
   "execution_count": null,
   "metadata": {},
   "outputs": [],
   "source": [
    "! pip install openpyxl"
   ]
  },
  {
   "cell_type": "code",
   "execution_count": null,
   "metadata": {},
   "outputs": [],
   "source": [
    "exf = openpyxl.load_workbook(\"/home/ttt/ex6.xlsx\")\n",
    "aws = exf.active\n",
    "print(exf)"
   ]
  },
  {
   "cell_type": "code",
   "execution_count": null,
   "metadata": {},
   "outputs": [],
   "source": []
  }
 ],
 "metadata": {
  "kernelspec": {
   "display_name": "Python 3",
   "language": "python",
   "name": "python3"
  },
  "language_info": {
   "codemirror_mode": {
    "name": "ipython",
    "version": 3
   },
   "file_extension": ".py",
   "mimetype": "text/x-python",
   "name": "python",
   "nbconvert_exporter": "python",
   "pygments_lexer": "ipython3",
   "version": "3.5.2"
  }
 },
 "nbformat": 4,
 "nbformat_minor": 2
}
