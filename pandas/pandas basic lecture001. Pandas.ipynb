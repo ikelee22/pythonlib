{
 "cells": [
  {
   "cell_type": "markdown",
   "metadata": {},
   "source": [
    "<img src='./img/intel-logo.jpg' width=10%> \n",
    "    \n",
    "<font size=7><div align='left'>판다스 기초강의<br>\n",
    "<br>\n",
    "<font size=6><div align='left'>1.Pandas 개요 및 Series 소개<br> \n",
    "    \n",
    "<img src='./img/matplotlib_logo.png' width=50%> \n",
    "    \n",
    "<font size=3><div align='right'>\n",
    "<div align='right'>성  민  석 (Minsuk  Sung)</div>\n",
    "<div align='right'>류  회  성 (Hoesung Ryu)</div>\n",
    "<div align='right'>이  인  구 (Ike Lee)</div>\n",
    "\n",
    "\n",
    "---"
   ]
  },
  {
   "cell_type": "markdown",
   "metadata": {
    "toc": true
   },
   "source": [
    "<h1>강의목차<span class=\"tocSkip\"></span></h1>\n",
    "<div class=\"toc\"><ul class=\"toc-item\"><li><span><a href=\"#Pandas란?\" data-toc-modified-id=\"Pandas란?-1\"><span class=\"toc-item-num\">1&nbsp;&nbsp;</span>Pandas란?</a></span></li><li><span><a href=\"#Object-Creation\" data-toc-modified-id=\"Object-Creation-2\"><span class=\"toc-item-num\">2&nbsp;&nbsp;</span>Object Creation</a></span><ul class=\"toc-item\"><li><span><a href=\"#Series\" data-toc-modified-id=\"Series-2.1\"><span class=\"toc-item-num\">2.1&nbsp;&nbsp;</span>Series</a></span><ul class=\"toc-item\"><li><span><a href=\"#기본-정보-보기\" data-toc-modified-id=\"기본-정보-보기-2.1.1\"><span class=\"toc-item-num\">2.1.1&nbsp;&nbsp;</span>기본 정보 보기</a></span></li><li><span><a href=\"#index-출력\" data-toc-modified-id=\"index-출력-2.1.2\"><span class=\"toc-item-num\">2.1.2&nbsp;&nbsp;</span>index 출력</a></span></li><li><span><a href=\"#value-출력\" data-toc-modified-id=\"value-출력-2.1.3\"><span class=\"toc-item-num\">2.1.3&nbsp;&nbsp;</span>value 출력</a></span></li><li><span><a href=\"#tuple-로-출력\" data-toc-modified-id=\"tuple-로-출력-2.1.4\"><span class=\"toc-item-num\">2.1.4&nbsp;&nbsp;</span>tuple 로 출력</a></span></li><li><span><a href=\"#data-조건색인\" data-toc-modified-id=\"data-조건색인-2.1.5\"><span class=\"toc-item-num\">2.1.5&nbsp;&nbsp;</span>data 조건색인</a></span></li><li><span><a href=\"#data-append\" data-toc-modified-id=\"data-append-2.1.6\"><span class=\"toc-item-num\">2.1.6&nbsp;&nbsp;</span>data append</a></span></li><li><span><a href=\"#data의-인덱스-라벨과-각-항목-값을-아래와-같이-출력\" data-toc-modified-id=\"data의-인덱스-라벨과-각-항목-값을-아래와-같이-출력-2.1.7\"><span class=\"toc-item-num\">2.1.7&nbsp;&nbsp;</span>data의 인덱스 라벨과 각 항목 값을 아래와 같이 출력</a></span></li><li><span><a href=\"#index-slicing\" data-toc-modified-id=\"index-slicing-2.1.8\"><span class=\"toc-item-num\">2.1.8&nbsp;&nbsp;</span>index slicing</a></span></li></ul></li></ul></li></ul></div>"
   ]
  },
  {
   "cell_type": "markdown",
   "metadata": {},
   "source": [
    "## Pandas란?\n",
    "\n",
    "데이터 분석을 쉽게 할 수 있도록 해주는 파이썬 서드파티 라이브러리이다.\n",
    "\n",
    "판다스에서는\n",
    " - 데이터 입,출력( CSV, Excel, Json...)\n",
    " - 데이터 NULL 값 처리 \n",
    " - 데이터의 유연한 변경 (분리, 결합, 피봇 ... )\n",
    " - 통계처리 및 회구처리 \n",
    " - 데이터 요약 및 그룹연산\n",
    " \n",
    "등의 일들을 처리 할 수 있다. "
   ]
  },
  {
   "cell_type": "markdown",
   "metadata": {},
   "source": [
    "## Object Creation \n",
    "### Series\n",
    "<img src='./img/series.png' width=60%> \n"
   ]
  },
  {
   "cell_type": "code",
   "execution_count": null,
   "metadata": {
    "ExecuteTime": {
     "end_time": "2019-12-02T11:39:13.098044Z",
     "start_time": "2019-12-02T11:39:13.094863Z"
    }
   },
   "outputs": [],
   "source": [
    "import random\n",
    "from pandas import Series, DataFrame"
   ]
  },
  {
   "cell_type": "code",
   "execution_count": null,
   "metadata": {
    "ExecuteTime": {
     "end_time": "2019-12-02T11:13:25.819813Z",
     "start_time": "2019-12-02T11:13:25.806789Z"
    }
   },
   "outputs": [],
   "source": [
    "# 1~100사이의 값을 26개 생성하여 list로 반환\n",
    "sample = random.sample(range(1,100),26) \n",
    "data = Series(sample, index = list('ABCDEFGHIJKLMNOPQRSTUVWXYZ'))\n",
    "data"
   ]
  },
  {
   "cell_type": "markdown",
   "metadata": {},
   "source": [
    "#### 기본 정보 보기 "
   ]
  },
  {
   "cell_type": "code",
   "execution_count": null,
   "metadata": {
    "ExecuteTime": {
     "end_time": "2019-12-02T11:16:07.111822Z",
     "start_time": "2019-12-02T11:16:07.100330Z"
    }
   },
   "outputs": [],
   "source": [
    "data.describe()"
   ]
  },
  {
   "cell_type": "markdown",
   "metadata": {},
   "source": [
    "#### index 출력"
   ]
  },
  {
   "cell_type": "code",
   "execution_count": null,
   "metadata": {
    "ExecuteTime": {
     "end_time": "2019-12-02T11:14:04.303376Z",
     "start_time": "2019-12-02T11:14:04.299863Z"
    }
   },
   "outputs": [],
   "source": [
    "# total index \n",
    "print(data.index)"
   ]
  },
  {
   "cell_type": "code",
   "execution_count": null,
   "metadata": {
    "ExecuteTime": {
     "end_time": "2019-12-02T11:14:05.170576Z",
     "start_time": "2019-12-02T11:14:05.167208Z"
    }
   },
   "outputs": [],
   "source": [
    "# 인덱스 라벨이 'K' 인 특정 항목의 값 출력 합니다. \n",
    "print(\"Data's K value: {}\" .format(data['K']))"
   ]
  },
  {
   "cell_type": "markdown",
   "metadata": {},
   "source": [
    "#### value 출력"
   ]
  },
  {
   "cell_type": "code",
   "execution_count": null,
   "metadata": {
    "ExecuteTime": {
     "end_time": "2019-12-02T11:15:24.610360Z",
     "start_time": "2019-12-02T11:15:24.606143Z"
    }
   },
   "outputs": [],
   "source": [
    "#value 출력 하기 입니다.\n",
    "for i in data.values:\n",
    "    print(i)"
   ]
  },
  {
   "cell_type": "markdown",
   "metadata": {},
   "source": [
    "#### tuple 로 출력"
   ]
  },
  {
   "cell_type": "code",
   "execution_count": null,
   "metadata": {
    "ExecuteTime": {
     "end_time": "2019-12-02T11:15:25.723444Z",
     "start_time": "2019-12-02T11:15:25.719316Z"
    },
    "scrolled": false
   },
   "outputs": [],
   "source": [
    "# items() => return (index,label) \n",
    "# items은 키와 값을 다 출력 합니다. \n",
    "\n",
    "for i in data.items():\n",
    "    print(i)"
   ]
  },
  {
   "cell_type": "markdown",
   "metadata": {},
   "source": [
    "#### data 조건색인"
   ]
  },
  {
   "cell_type": "code",
   "execution_count": null,
   "metadata": {
    "ExecuteTime": {
     "end_time": "2019-12-02T11:18:38.400170Z",
     "start_time": "2019-12-02T11:18:38.390826Z"
    }
   },
   "outputs": [],
   "source": [
    "#data 조건색인 \n",
    "data[data>=50]\n",
    "\n",
    "#30<value<70\n",
    "data[(data>=30)&(data<70)]"
   ]
  },
  {
   "cell_type": "markdown",
   "metadata": {},
   "source": [
    "#### data append"
   ]
  },
  {
   "cell_type": "code",
   "execution_count": null,
   "metadata": {
    "ExecuteTime": {
     "end_time": "2019-12-02T11:18:36.825322Z",
     "start_time": "2019-12-02T11:18:36.819401Z"
    }
   },
   "outputs": [],
   "source": [
    "data=data.append(Series({'Z':110000}))\n",
    "print(data['Z'])"
   ]
  },
  {
   "cell_type": "markdown",
   "metadata": {},
   "source": [
    "#### data의 인덱스 라벨과 각 항목 값을 아래와 같이 출력\n",
    "\n",
    "> index: A, value: XX<p>\n",
    "> index: B, value: XX<p>\n",
    "> index: C, value: XX"
   ]
  },
  {
   "cell_type": "code",
   "execution_count": null,
   "metadata": {
    "ExecuteTime": {
     "end_time": "2019-12-02T11:17:19.635999Z",
     "start_time": "2019-12-02T11:17:19.632294Z"
    }
   },
   "outputs": [],
   "source": [
    "W=['A','B','C']\n",
    "for i in W:\n",
    "    print(\"index: {}\". format(value())"
   ]
  },
  {
   "cell_type": "code",
   "execution_count": null,
   "metadata": {
    "ExecuteTime": {
     "end_time": "2019-12-02T11:17:19.635999Z",
     "start_time": "2019-12-02T11:17:19.632294Z"
    }
   },
   "outputs": [],
   "source": [
    "W=['A','B','C']\n",
    "for i in W:\n",
    "    print(\"index: {i}, value: {data[i]}\")"
   ]
  },
  {
   "cell_type": "code",
   "execution_count": null,
   "metadata": {
    "ExecuteTime": {
     "end_time": "2019-12-02T11:17:24.425557Z",
     "start_time": "2019-12-02T11:17:24.421270Z"
    }
   },
   "outputs": [],
   "source": [
    "'P' in data.index"
   ]
  },
  {
   "cell_type": "markdown",
   "metadata": {},
   "source": [
    "#### index slicing"
   ]
  },
  {
   "cell_type": "code",
   "execution_count": null,
   "metadata": {
    "ExecuteTime": {
     "end_time": "2019-12-02T11:19:34.087785Z",
     "start_time": "2019-12-02T11:19:34.083231Z"
    }
   },
   "outputs": [],
   "source": [
    "# 5번 인덱스부터 15번 인덱스까지의 항목 출력\n",
    "print(\"5번 인덱스부터 15번 인덱스까지의 항목 출력:\")\n",
    "print(data[4:15],end='\\n')"
   ]
  },
  {
   "cell_type": "code",
   "execution_count": null,
   "metadata": {},
   "outputs": [],
   "source": []
  }
 ],
 "metadata": {
  "kernelspec": {
   "display_name": "Python 3",
   "language": "python",
   "name": "python3"
  },
  "language_info": {
   "codemirror_mode": {
    "name": "ipython",
    "version": 3
   },
   "file_extension": ".py",
   "mimetype": "text/x-python",
   "name": "python",
   "nbconvert_exporter": "python",
   "pygments_lexer": "ipython3",
   "version": "3.5.2"
  },
  "toc": {
   "base_numbering": 1,
   "nav_menu": {},
   "number_sections": true,
   "sideBar": true,
   "skip_h1_title": true,
   "title_cell": "강의목차",
   "title_sidebar": "Contents",
   "toc_cell": true,
   "toc_position": {},
   "toc_section_display": true,
   "toc_window_display": true
  }
 },
 "nbformat": 4,
 "nbformat_minor": 2
}
