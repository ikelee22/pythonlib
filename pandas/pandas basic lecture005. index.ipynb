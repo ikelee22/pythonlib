{
 "cells": [
  {
   "cell_type": "markdown",
   "metadata": {},
   "source": [
    "\n",
    "<img src='./img/intel-logo.jpg' width=10%> \n",
    "    \n",
    "<font size=7><div align='left'>판다스 기초강의<br>\n",
    "<br>\n",
    "<font size=6><div align='left'>05.계층색인<br>\n",
    "    \n",
    "<font size=3><div align='right'>\n",
    "<div align='right'>성  민  석 (Minsuk  Sung)</div>\n",
    "<div align='right'>류  회  성 (Hoesung Ryu)</div>\n",
    "<div align='right'>이  인  구 (Ike Lee)</div>"
   ]
  },
  {
   "cell_type": "markdown",
   "metadata": {
    "toc": true
   },
   "source": [
    "<h1>강의목차<span class=\"tocSkip\"></span></h1>\n",
    "<div class=\"toc\"><ul class=\"toc-item\"><li><span><a href=\"#특정-column-선택하기\" data-toc-modified-id=\"특정-column-선택하기-1\"><span class=\"toc-item-num\">1&nbsp;&nbsp;</span>특정 column 선택하기</a></span></li><li><span><a href=\"#set_index-and-reset_index\" data-toc-modified-id=\"set_index-and-reset_index-2\"><span class=\"toc-item-num\">2&nbsp;&nbsp;</span>set_index and reset_index</a></span><ul class=\"toc-item\"><li><span><a href=\"#set_index\" data-toc-modified-id=\"set_index-2.1\"><span class=\"toc-item-num\">2.1&nbsp;&nbsp;</span>set_index</a></span></li><li><span><a href=\"#reset_index\" data-toc-modified-id=\"reset_index-2.2\"><span class=\"toc-item-num\">2.2&nbsp;&nbsp;</span>reset_index</a></span></li><li><span><a href=\"#reset_index-&amp;-drop\" data-toc-modified-id=\"reset_index-&amp;-drop-2.3\"><span class=\"toc-item-num\">2.3&nbsp;&nbsp;</span>reset_index &amp; drop</a></span></li></ul></li><li><span><a href=\"#Logic-operation\" data-toc-modified-id=\"Logic-operation-3\"><span class=\"toc-item-num\">3&nbsp;&nbsp;</span>Logic operation</a></span><ul class=\"toc-item\"><li><span><a href=\"#OR\" data-toc-modified-id=\"OR-3.1\"><span class=\"toc-item-num\">3.1&nbsp;&nbsp;</span>OR</a></span></li><li><span><a href=\"#AND\" data-toc-modified-id=\"AND-3.2\"><span class=\"toc-item-num\">3.2&nbsp;&nbsp;</span>AND</a></span></li></ul></li><li><span><a href=\"#Multi-index(다중색인)\" data-toc-modified-id=\"Multi-index(다중색인)-4\"><span class=\"toc-item-num\">4&nbsp;&nbsp;</span>Multi-index(다중색인)</a></span><ul class=\"toc-item\"><li><span><a href=\"#swaplevel(index1,-index2,-axis)\" data-toc-modified-id=\"swaplevel(index1,-index2,-axis)-4.1\"><span class=\"toc-item-num\">4.1&nbsp;&nbsp;</span>swaplevel(index1, index2, axis)</a></span></li></ul></li><li><span><a href=\"#stack(),-unstack()-함수\" data-toc-modified-id=\"stack(),-unstack()-함수-5\"><span class=\"toc-item-num\">5&nbsp;&nbsp;</span>stack(), unstack() 함수</a></span><ul class=\"toc-item\"><li><span><a href=\"#stack()\" data-toc-modified-id=\"stack()-5.1\"><span class=\"toc-item-num\">5.1&nbsp;&nbsp;</span>stack()</a></span></li><li><span><a href=\"#unstack()\" data-toc-modified-id=\"unstack()-5.2\"><span class=\"toc-item-num\">5.2&nbsp;&nbsp;</span>unstack()</a></span></li></ul></li></ul></div>"
   ]
  },
  {
   "cell_type": "markdown",
   "metadata": {},
   "source": [
    "## 특정 column 선택하기\n",
    "\n",
    "- `df.food` == `df['food']` 두개는 같은 표현이다"
   ]
  },
  {
   "cell_type": "code",
   "execution_count": null,
   "metadata": {
    "ExecuteTime": {
     "end_time": "2019-12-03T06:08:17.717737Z",
     "start_time": "2019-12-03T06:08:17.706920Z"
    }
   },
   "outputs": [],
   "source": [
    "import numpy as np\n",
    "import pandas as pd\n",
    "\n",
    "\n",
    "# DataFrame 만들기 \n",
    "df2 = pd.DataFrame({'food': ['bacon', 'pulled pork', 'bacon', 'Pastrami', \n",
    "                             'corned beef', 'Bacon', 'pastrami', 'honey ham',\n",
    "                             'nova lox'],\n",
    "                    'ounces': ['a', 'b', 'c', 'd', 'e', 'a', 'b','c', 'd']})\n",
    "\n",
    "print(\"---Origin---\")\n",
    "display(df2)"
   ]
  },
  {
   "cell_type": "code",
   "execution_count": null,
   "metadata": {
    "ExecuteTime": {
     "end_time": "2019-12-03T06:08:19.839819Z",
     "start_time": "2019-12-03T06:08:19.833971Z"
    }
   },
   "outputs": [],
   "source": [
    "# food column 가져오기 \n",
    "print(\"--- df2.food ---\")\n",
    "display(df2.food)"
   ]
  },
  {
   "cell_type": "code",
   "execution_count": null,
   "metadata": {
    "ExecuteTime": {
     "end_time": "2019-12-03T06:08:20.090914Z",
     "start_time": "2019-12-03T06:08:20.082461Z"
    }
   },
   "outputs": [],
   "source": [
    "# food 컬럼에서 bacon을 가져오기\n",
    "print(\"--- df2.food == bacon ---\")\n",
    "display(df2[df2.food=='bacon'])"
   ]
  },
  {
   "cell_type": "markdown",
   "metadata": {},
   "source": [
    "## set_index and reset_index \n",
    "\n",
    "- set_index: column 중 선택 변수를 인덱스로 지정 할 수 있다.\n",
    "- reset_index: index를 다시 컬럼으로 돌리거나, 삭제 시킨다. "
   ]
  },
  {
   "cell_type": "code",
   "execution_count": null,
   "metadata": {
    "ExecuteTime": {
     "end_time": "2019-12-03T06:08:20.434757Z",
     "start_time": "2019-12-03T06:08:20.423062Z"
    }
   },
   "outputs": [],
   "source": [
    "np.random.seed(0)\n",
    "df = pd.DataFrame(np.vstack([list('ABCDE'),\n",
    "                              np.round(np.random.rand(3, 5), 2)]).T,\n",
    "                   columns=[\"C1\", \"C2\", \"C3\", \"C4\"])\n",
    "print('---Origin DataFrame---')\n",
    "display(df)"
   ]
  },
  {
   "cell_type": "markdown",
   "metadata": {},
   "source": [
    "### set_index "
   ]
  },
  {
   "cell_type": "code",
   "execution_count": null,
   "metadata": {
    "ExecuteTime": {
     "end_time": "2019-12-03T06:08:20.779452Z",
     "start_time": "2019-12-03T06:08:20.769397Z"
    }
   },
   "outputs": [],
   "source": [
    "df1 = df.set_index(\"C1\")\n",
    "print('---set C1 as an index ---')\n",
    "display(df1)"
   ]
  },
  {
   "cell_type": "markdown",
   "metadata": {},
   "source": [
    "### reset_index \n"
   ]
  },
  {
   "cell_type": "code",
   "execution_count": null,
   "metadata": {
    "ExecuteTime": {
     "end_time": "2019-12-03T06:08:21.112280Z",
     "start_time": "2019-12-03T06:08:21.101398Z"
    }
   },
   "outputs": [],
   "source": [
    "df2 = df1.reset_index()\n",
    "print('---reset_index---')\n",
    "display(df2)"
   ]
  },
  {
   "cell_type": "markdown",
   "metadata": {},
   "source": [
    "### reset_index & drop "
   ]
  },
  {
   "cell_type": "code",
   "execution_count": null,
   "metadata": {
    "ExecuteTime": {
     "end_time": "2019-12-03T06:07:49.593963Z",
     "start_time": "2019-12-03T06:07:49.584764Z"
    }
   },
   "outputs": [],
   "source": [
    "# reset_index 명령 사용시에 drop=True 로 설정하면,\n",
    "# 인덱스 열을 보통의 자료열로 올리는 것이 아니라 그냥 버리게 된다.\n",
    "print('---reset_index drop---')\n",
    "display(df1.reset_index(drop=True))"
   ]
  },
  {
   "cell_type": "markdown",
   "metadata": {},
   "source": [
    "## Logic operation\n"
   ]
  },
  {
   "cell_type": "code",
   "execution_count": null,
   "metadata": {
    "ExecuteTime": {
     "end_time": "2019-12-03T06:11:01.413614Z",
     "start_time": "2019-12-03T06:11:01.399111Z"
    }
   },
   "outputs": [],
   "source": [
    "# df_2 = df_2[(df_2['item_type']=='adena') & df_2['item_type']=='armor']\n",
    "df_c1 = df.set_index('C1')\n",
    "# display(df_c1)\n",
    "aa = df_c1[(df_c1.C2 == '0.55') | (df_c1.C3 == '0.6')]\n",
    "bb = df_c1[(df_c1.C2 == '0.55') & (df_c1.C3 == '0.6')]\n",
    "print(\"---Origin: ---\")\n",
    "display(df_c1)"
   ]
  },
  {
   "cell_type": "markdown",
   "metadata": {
    "ExecuteTime": {
     "end_time": "2019-12-03T06:09:33.105527Z",
     "start_time": "2019-12-03T06:09:33.077811Z"
    }
   },
   "source": [
    "### OR"
   ]
  },
  {
   "cell_type": "code",
   "execution_count": null,
   "metadata": {
    "ExecuteTime": {
     "end_time": "2019-12-03T06:11:03.116423Z",
     "start_time": "2019-12-03T06:11:03.107459Z"
    }
   },
   "outputs": [],
   "source": [
    "# OR 둘중 하나만 참이면 참\n",
    "print(\"---OR : (df_c1.C2 == '0.55') | (df_c1.C3 == '0.6')---\")\n",
    "display(aa)"
   ]
  },
  {
   "cell_type": "markdown",
   "metadata": {
    "ExecuteTime": {
     "end_time": "2019-12-03T06:09:33.105527Z",
     "start_time": "2019-12-03T06:09:33.077811Z"
    }
   },
   "source": [
    "### AND"
   ]
  },
  {
   "cell_type": "code",
   "execution_count": null,
   "metadata": {
    "ExecuteTime": {
     "end_time": "2019-12-03T06:11:04.031357Z",
     "start_time": "2019-12-03T06:11:04.023979Z"
    }
   },
   "outputs": [],
   "source": [
    "# 둘 다 참 일떄만 참\n",
    "print(\"---AND : (df_c1.C2 == '0.55') & (df_c1.C3 == '0.6')---\")\n",
    "display(bb)"
   ]
  },
  {
   "cell_type": "markdown",
   "metadata": {},
   "source": [
    "## Multi-index(다중색인)"
   ]
  },
  {
   "cell_type": "code",
   "execution_count": null,
   "metadata": {
    "ExecuteTime": {
     "end_time": "2019-12-03T06:24:45.806503Z",
     "start_time": "2019-12-03T06:24:45.791572Z"
    }
   },
   "outputs": [],
   "source": [
    "np.random.seed(0)\n",
    "df3 = pd.DataFrame(np.round(np.random.randn(5, 4), 2),\n",
    "                   columns=[[\"A\", \"A\", \"B\", \"B\"],\n",
    "                            [\"C1\", \"C2\", \"C1\", \"C2\"]])\n",
    "print('---oringin DataFrame---')\n",
    "display(df3)"
   ]
  },
  {
   "cell_type": "code",
   "execution_count": null,
   "metadata": {
    "ExecuteTime": {
     "end_time": "2019-12-03T06:24:46.038912Z",
     "start_time": "2019-12-03T06:24:46.029253Z"
    }
   },
   "outputs": [],
   "source": [
    "# 컬럼이름 [\"Cidx1\", \"Cidx2\"] 로 설정하기\n",
    "df3.columns.names = [\"Cidx1\", \"Cidx2\"]\n",
    "print(\"---set columns name as ['Cidx1', 'Cidx2']---\")\n",
    "display(df3)"
   ]
  },
  {
   "cell_type": "code",
   "execution_count": null,
   "metadata": {
    "ExecuteTime": {
     "end_time": "2019-12-03T06:24:46.280354Z",
     "start_time": "2019-12-03T06:24:46.271818Z"
    }
   },
   "outputs": [],
   "source": [
    "# 컬럼이 A인 데이터 가져오기\n",
    "df3['A']"
   ]
  },
  {
   "cell_type": "code",
   "execution_count": null,
   "metadata": {
    "ExecuteTime": {
     "end_time": "2019-12-03T06:24:46.500065Z",
     "start_time": "2019-12-03T06:24:46.495434Z"
    }
   },
   "outputs": [],
   "source": [
    "# 컬럼이 A이면서 C2 인 것 조회하기 \n",
    "df3[('A','C2')]"
   ]
  },
  {
   "cell_type": "code",
   "execution_count": null,
   "metadata": {
    "ExecuteTime": {
     "end_time": "2019-12-03T06:24:46.539089Z",
     "start_time": "2019-12-03T06:24:46.533450Z"
    }
   },
   "outputs": [],
   "source": [
    "# 위와 같은 방식임\n",
    "df3['A']['C2'] "
   ]
  },
  {
   "cell_type": "code",
   "execution_count": null,
   "metadata": {
    "ExecuteTime": {
     "end_time": "2019-12-03T06:24:46.589600Z",
     "start_time": "2019-12-03T06:24:46.579317Z"
    }
   },
   "outputs": [],
   "source": [
    "# 인덱스 0부터 2까지 조회 \n",
    "df3.iloc[0:3]"
   ]
  },
  {
   "cell_type": "code",
   "execution_count": null,
   "metadata": {
    "ExecuteTime": {
     "end_time": "2019-12-03T06:24:46.827284Z",
     "start_time": "2019-12-03T06:24:46.814400Z"
    }
   },
   "outputs": [],
   "source": [
    "# A,B 에서 C1 선택하기 \n",
    "df3[[('A','C1'),('B','C1')]]"
   ]
  },
  {
   "cell_type": "code",
   "execution_count": null,
   "metadata": {
    "ExecuteTime": {
     "end_time": "2019-12-03T06:24:47.048725Z",
     "start_time": "2019-12-03T06:24:47.041474Z"
    }
   },
   "outputs": [],
   "source": [
    "# 최상위 색인이 아닌 색인으로만 인덱싱하고 싶은 경우에는 xs() 함수를 사용.\n",
    "df3.xs('C1',axis=1,level=1)"
   ]
  },
  {
   "cell_type": "code",
   "execution_count": null,
   "metadata": {
    "ExecuteTime": {
     "end_time": "2019-12-03T06:24:47.281594Z",
     "start_time": "2019-12-03T06:24:47.272059Z"
    }
   },
   "outputs": [],
   "source": [
    "df3.index.set_names('rank',inplace=True)\n",
    "df3"
   ]
  },
  {
   "cell_type": "markdown",
   "metadata": {},
   "source": [
    "### swaplevel(index1, index2, axis)\n",
    "**index1과 index2의 위치를 변경**함.   \n",
    "**index1과 index2가 로우 인덱스인 경우, axis = 0, 컬럼인덱스면 1 (기본값은 0)**"
   ]
  },
  {
   "cell_type": "code",
   "execution_count": null,
   "metadata": {
    "ExecuteTime": {
     "end_time": "2019-12-03T06:26:45.486095Z",
     "start_time": "2019-12-03T06:26:45.474731Z"
    }
   },
   "outputs": [],
   "source": [
    "df3.swaplevel('Cidx1','Cidx2',axis=1)\n"
   ]
  },
  {
   "cell_type": "code",
   "execution_count": null,
   "metadata": {
    "ExecuteTime": {
     "end_time": "2019-12-03T06:28:12.559264Z",
     "start_time": "2019-12-03T06:28:12.545178Z"
    }
   },
   "outputs": [],
   "source": [
    "# 컬럼 위치 변경하고, 정렬하기 \n",
    "df3.swaplevel('Cidx1','Cidx2',axis=1).sort_index(axis=1)"
   ]
  },
  {
   "cell_type": "markdown",
   "metadata": {},
   "source": [
    "## stack(), unstack() 함수\n",
    "\n",
    "1. stack(level) : 컬럼 인덱스를 로우 인덱스로 옮길 때 사용.\n",
    "2. unstack(level): 로우 인덱스를 컬럼 인덱스로 옮길 때 사용.\n",
    "3. level 인자는 옮기고자 하는 인덱스의 위치를 표기함. 명시하지 않은 경우, 최하단의 인덱스를 이동시킴.\n",
    "4. level은 최상위가 0이고, 1씩 증가함"
   ]
  },
  {
   "cell_type": "code",
   "execution_count": null,
   "metadata": {
    "ExecuteTime": {
     "end_time": "2019-12-03T06:32:28.204013Z",
     "start_time": "2019-12-03T06:32:28.189310Z"
    }
   },
   "outputs": [],
   "source": [
    "# 샘플 데이터 생성\n",
    "np.random.seed(0)\n",
    "df = pd.DataFrame(np.random.randint(50, 100, (5, 4)), \n",
    "                  columns=[[2016, 2016, 2017, 2017], ['영어','수학','영어','수학']], \n",
    "                  index = ['Kim','Park','Lee','Jung','Moon'])\n",
    "\n",
    "df.columns.set_names(['연도','과목'],inplace=True)\n",
    "df"
   ]
  },
  {
   "cell_type": "markdown",
   "metadata": {},
   "source": [
    "### stack()"
   ]
  },
  {
   "cell_type": "code",
   "execution_count": null,
   "metadata": {
    "ExecuteTime": {
     "end_time": "2019-12-03T06:32:31.321238Z",
     "start_time": "2019-12-03T06:32:31.306015Z"
    }
   },
   "outputs": [],
   "source": [
    "# 연도 컬럼을 로우 인덱스로 변경\n",
    "df.stack('연도')"
   ]
  },
  {
   "cell_type": "code",
   "execution_count": null,
   "metadata": {
    "ExecuteTime": {
     "end_time": "2019-12-03T06:35:42.583514Z",
     "start_time": "2019-12-03T06:35:42.574617Z"
    }
   },
   "outputs": [],
   "source": [
    "# 과목 컬럼을 로우 인덱스로 변경\n",
    "df2 = df.stack('과목')"
   ]
  },
  {
   "cell_type": "markdown",
   "metadata": {},
   "source": [
    "### unstack()"
   ]
  },
  {
   "cell_type": "code",
   "execution_count": null,
   "metadata": {
    "ExecuteTime": {
     "end_time": "2019-12-03T06:36:07.726758Z",
     "start_time": "2019-12-03T06:36:07.718273Z"
    }
   },
   "outputs": [],
   "source": [
    "df2"
   ]
  },
  {
   "cell_type": "code",
   "execution_count": null,
   "metadata": {
    "ExecuteTime": {
     "end_time": "2019-12-03T06:36:08.410702Z",
     "start_time": "2019-12-03T06:36:08.385865Z"
    }
   },
   "outputs": [],
   "source": [
    "df2.unstack('과목')"
   ]
  }
 ],
 "metadata": {
  "kernelspec": {
   "display_name": "Python 3",
   "language": "python",
   "name": "python3"
  },
  "language_info": {
   "codemirror_mode": {
    "name": "ipython",
    "version": 3
   },
   "file_extension": ".py",
   "mimetype": "text/x-python",
   "name": "python",
   "nbconvert_exporter": "python",
   "pygments_lexer": "ipython3",
   "version": "3.5.2"
  },
  "toc": {
   "base_numbering": 1,
   "nav_menu": {},
   "number_sections": true,
   "sideBar": true,
   "skip_h1_title": true,
   "title_cell": "강의목차",
   "title_sidebar": "Contents",
   "toc_cell": true,
   "toc_position": {},
   "toc_section_display": true,
   "toc_window_display": false
  }
 },
 "nbformat": 4,
 "nbformat_minor": 2
}
