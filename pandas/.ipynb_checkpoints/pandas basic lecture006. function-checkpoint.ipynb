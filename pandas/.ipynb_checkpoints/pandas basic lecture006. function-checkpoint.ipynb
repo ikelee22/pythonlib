{
 "cells": [
  {
   "cell_type": "markdown",
   "metadata": {},
   "source": [
    "\n",
    "<img src='./img/intel-logo.jpg' width=10%> \n",
    "    \n",
    "<font size=7><div align='left'>판다스 기초강의<br>\n",
    "<br>\n",
    "<font size=6><div align='left'>06.함수적용과 맵핑<br>\n",
    "    \n",
    "<font size=3><div align='right'>\n",
    "<div align='right'>성  민  석 (Minsuk  Sung)</div>\n",
    "<div align='right'>류  회  성 (Hoesung Ryu)</div>\n",
    "<div align='right'>이  인  구 (Ike Lee)</div>"
   ]
  },
  {
   "cell_type": "markdown",
   "metadata": {
    "toc": true
   },
   "source": [
    "<h1>강의목차<span class=\"tocSkip\"></span></h1>\n",
    "<div class=\"toc\"><ul class=\"toc-item\"><li><span><a href=\"#apply()\" data-toc-modified-id=\"apply()-1\"><span class=\"toc-item-num\">1&nbsp;&nbsp;</span>apply()</a></span></li><li><span><a href=\"#applymap()\" data-toc-modified-id=\"applymap()-2\"><span class=\"toc-item-num\">2&nbsp;&nbsp;</span>applymap()</a></span></li></ul></div>"
   ]
  },
  {
   "cell_type": "markdown",
   "metadata": {},
   "source": [
    "## apply()\n",
    "각 로우나 컬럼의 1차원 배열에 함수를 적용"
   ]
  },
  {
   "cell_type": "code",
   "execution_count": null,
   "metadata": {
    "ExecuteTime": {
     "end_time": "2019-12-03T06:43:45.868636Z",
     "start_time": "2019-12-03T06:43:45.846069Z"
    }
   },
   "outputs": [],
   "source": [
    "import pandas as pd \n",
    "df = pd.DataFrame([[1, 3, 5, 7], [2, 4, 6, 8], [10, 20, 30, 40]],\n",
    "               columns=list('ABCD'), index=['X', 'Y', 'Z'])\n",
    "df"
   ]
  },
  {
   "cell_type": "code",
   "execution_count": null,
   "metadata": {
    "ExecuteTime": {
     "end_time": "2019-12-03T06:43:56.633809Z",
     "start_time": "2019-12-03T06:43:56.630728Z"
    }
   },
   "outputs": [],
   "source": [
    "# 적용 할 함수\n",
    "def diff (x):\n",
    "    return x.max() - x.min()\n",
    "df"
   ]
  },
  {
   "cell_type": "code",
   "execution_count": null,
   "metadata": {
    "ExecuteTime": {
     "end_time": "2019-12-03T06:45:56.566633Z",
     "start_time": "2019-12-03T06:45:56.551311Z"
    }
   },
   "outputs": [],
   "source": [
    "# row 단위로 적용 axis=1\n",
    "df.apply(diff,axis=1)"
   ]
  },
  {
   "cell_type": "code",
   "execution_count": null,
   "metadata": {
    "ExecuteTime": {
     "end_time": "2019-12-03T06:46:59.041928Z",
     "start_time": "2019-12-03T06:46:59.035154Z"
    }
   },
   "outputs": [],
   "source": [
    "# 컬럼단위로 적용 axis=0\n",
    "df.apply(diff,axis=0)"
   ]
  },
  {
   "cell_type": "code",
   "execution_count": null,
   "metadata": {
    "ExecuteTime": {
     "end_time": "2019-12-03T06:49:41.726788Z",
     "start_time": "2019-12-03T06:49:41.715374Z"
    }
   },
   "outputs": [],
   "source": [
    "# 함수를 적용한 값을 새로운 컬럼에 할당 \n",
    "df['E'] = df.apply(diff,axis=1)\n",
    "df"
   ]
  },
  {
   "cell_type": "markdown",
   "metadata": {},
   "source": [
    "## applymap()\n",
    "각 항목에 함수를 적용"
   ]
  },
  {
   "cell_type": "code",
   "execution_count": null,
   "metadata": {
    "ExecuteTime": {
     "end_time": "2019-12-03T06:48:16.277486Z",
     "start_time": "2019-12-03T06:48:16.266537Z"
    }
   },
   "outputs": [],
   "source": [
    "# 보통의 경우, 파이썬에서 lambda 함수와 함께 적용한다\n",
    "df.applymap(lambda x: x*2)"
   ]
  },
  {
   "cell_type": "code",
   "execution_count": null,
   "metadata": {
    "ExecuteTime": {
     "end_time": "2019-12-03T06:47:45.815267Z",
     "start_time": "2019-12-03T06:47:45.807671Z"
    }
   },
   "outputs": [],
   "source": [
    "# 적용 할 함수 \n",
    "def mul2(x):\n",
    "    return x * 2\n",
    "df"
   ]
  },
  {
   "cell_type": "code",
   "execution_count": null,
   "metadata": {
    "ExecuteTime": {
     "end_time": "2019-12-03T06:47:48.620381Z",
     "start_time": "2019-12-03T06:47:48.609987Z"
    }
   },
   "outputs": [],
   "source": [
    "df.applymap(mul2)"
   ]
  },
  {
   "cell_type": "code",
   "execution_count": null,
   "metadata": {},
   "outputs": [],
   "source": []
  }
 ],
 "metadata": {
  "kernelspec": {
   "display_name": "Python 3",
   "language": "python",
   "name": "python3"
  },
  "language_info": {
   "codemirror_mode": {
    "name": "ipython",
    "version": 3
   },
   "file_extension": ".py",
   "mimetype": "text/x-python",
   "name": "python",
   "nbconvert_exporter": "python",
   "pygments_lexer": "ipython3",
   "version": "3.5.2"
  },
  "toc": {
   "base_numbering": 1,
   "nav_menu": {},
   "number_sections": true,
   "sideBar": true,
   "skip_h1_title": true,
   "title_cell": "강의목차",
   "title_sidebar": "Contents",
   "toc_cell": true,
   "toc_position": {},
   "toc_section_display": true,
   "toc_window_display": false
  }
 },
 "nbformat": 4,
 "nbformat_minor": 2
}
